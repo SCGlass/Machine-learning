{
 "cells": [
  {
   "attachments": {},
   "cell_type": "markdown",
   "metadata": {},
   "source": [
    "# NLP intro"
   ]
  },
  {
   "cell_type": "code",
   "execution_count": 13,
   "metadata": {},
   "outputs": [
    {
     "name": "stdout",
     "output_type": "stream",
     "text": [
      "[['i', 'love', 'this', 'book', 'about', 'love'], ['no', 'this', 'book', 'was', 'okay']]\n"
     ]
    }
   ],
   "source": [
    "import numpy as np\n",
    "\n",
    "review1 = \"I LOVE this book about love\"\n",
    "review2 = \"No this book was okay\"\n",
    "\n",
    "all_words = [text.lower().split() for text in [review1, review2]]\n",
    "print(all_words)"
   ]
  },
  {
   "cell_type": "code",
   "execution_count": 14,
   "metadata": {},
   "outputs": [
    {
     "data": {
      "text/plain": [
       "['i',\n",
       " 'love',\n",
       " 'this',\n",
       " 'book',\n",
       " 'about',\n",
       " 'love',\n",
       " 'no',\n",
       " 'this',\n",
       " 'book',\n",
       " 'was',\n",
       " 'okay']"
      ]
     },
     "execution_count": 14,
     "metadata": {},
     "output_type": "execute_result"
    }
   ],
   "source": [
    "# wants to flatten the 2D list to 1D list\n",
    "all_words = [word for text in all_words for word in text]\n",
    "all_words"
   ]
  },
  {
   "cell_type": "code",
   "execution_count": 15,
   "metadata": {},
   "outputs": [
    {
     "data": {
      "text/plain": [
       "(set, {'about', 'book', 'i', 'love', 'no', 'okay', 'this', 'was'})"
      ]
     },
     "execution_count": 15,
     "metadata": {},
     "output_type": "execute_result"
    }
   ],
   "source": [
    "unique_words = set(all_words)\n",
    "type(unique_words), unique_words"
   ]
  },
  {
   "cell_type": "code",
   "execution_count": 17,
   "metadata": {},
   "outputs": [
    {
     "name": "stdout",
     "output_type": "stream",
     "text": [
      "{'was': 0, 'book': 1, 'okay': 2, 'no': 3, 'about': 4, 'i': 5, 'this': 6, 'love': 7}\n"
     ]
    }
   ],
   "source": [
    "vocabulary = {word: index for index, word in enumerate(unique_words)}\n",
    "print(vocabulary)"
   ]
  },
  {
   "cell_type": "code",
   "execution_count": null,
   "metadata": {},
   "outputs": [],
   "source": [
    "def term_frequency_vectorizer(document, vocabulary):\n",
    "    term_frequency = np.zeros(len(vocabulary))\n",
    "\n",
    "    for word in document.lower().split():\n",
    "        "
   ]
  }
 ],
 "metadata": {
  "kernelspec": {
   "display_name": "Machine-learning-NSZCLOcg",
   "language": "python",
   "name": "python3"
  },
  "language_info": {
   "codemirror_mode": {
    "name": "ipython",
    "version": 3
   },
   "file_extension": ".py",
   "mimetype": "text/x-python",
   "name": "python",
   "nbconvert_exporter": "python",
   "pygments_lexer": "ipython3",
   "version": "3.9.13"
  },
  "orig_nbformat": 4
 },
 "nbformat": 4,
 "nbformat_minor": 2
}
