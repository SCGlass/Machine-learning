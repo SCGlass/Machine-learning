{
 "cells": [
  {
   "cell_type": "code",
   "execution_count": 239,
   "metadata": {},
   "outputs": [],
   "source": [
    "# importing relative packages for eda\n",
    "import pandas as pd\n",
    "import seaborn as sns\n",
    "import numpy as np\n",
    "import matplotlib.pyplot as plt"
   ]
  },
  {
   "cell_type": "code",
   "execution_count": 240,
   "metadata": {},
   "outputs": [],
   "source": [
    "# creating variables for the file paths \n",
    "movies = \"../data/movie_lens_big/movies.csv\"\n",
    "ratings = \"../data/movie_lens_big/ratings.csv\""
   ]
  },
  {
   "cell_type": "code",
   "execution_count": 241,
   "metadata": {},
   "outputs": [],
   "source": [
    "# importing the csv files and creating dataframes\n",
    "df_movies = pd.read_csv(movies, dtype={\"title\":\"str\", \"genres\":\"str\", \"movieId\":\"int32\"})\n",
    "df_ratings = pd.read_csv(ratings, dtype={\"userId\":\"int32\", \"movieId\":\"int32\", \"rating\":\"float32\"})"
   ]
  },
  {
   "cell_type": "code",
   "execution_count": 242,
   "metadata": {},
   "outputs": [
    {
     "name": "stdout",
     "output_type": "stream",
     "text": [
      "<class 'pandas.core.frame.DataFrame'>\n",
      "RangeIndex: 58098 entries, 0 to 58097\n",
      "Data columns (total 3 columns):\n",
      " #   Column   Non-Null Count  Dtype \n",
      "---  ------   --------------  ----- \n",
      " 0   movieId  58098 non-null  int32 \n",
      " 1   title    58098 non-null  object\n",
      " 2   genres   58098 non-null  object\n",
      "dtypes: int32(1), object(2)\n",
      "memory usage: 1.1+ MB\n"
     ]
    }
   ],
   "source": [
    "df_movies.info()"
   ]
  },
  {
   "cell_type": "code",
   "execution_count": 243,
   "metadata": {},
   "outputs": [
    {
     "name": "stdout",
     "output_type": "stream",
     "text": [
      "<class 'pandas.core.frame.DataFrame'>\n",
      "RangeIndex: 27753444 entries, 0 to 27753443\n",
      "Data columns (total 4 columns):\n",
      " #   Column     Dtype  \n",
      "---  ------     -----  \n",
      " 0   userId     int32  \n",
      " 1   movieId    int32  \n",
      " 2   rating     float32\n",
      " 3   timestamp  int64  \n",
      "dtypes: float32(1), int32(2), int64(1)\n",
      "memory usage: 529.4 MB\n"
     ]
    }
   ],
   "source": [
    "df_ratings.info()"
   ]
  },
  {
   "cell_type": "code",
   "execution_count": 244,
   "metadata": {},
   "outputs": [
    {
     "data": {
      "text/html": [
       "<div>\n",
       "<style scoped>\n",
       "    .dataframe tbody tr th:only-of-type {\n",
       "        vertical-align: middle;\n",
       "    }\n",
       "\n",
       "    .dataframe tbody tr th {\n",
       "        vertical-align: top;\n",
       "    }\n",
       "\n",
       "    .dataframe thead th {\n",
       "        text-align: right;\n",
       "    }\n",
       "</style>\n",
       "<table border=\"1\" class=\"dataframe\">\n",
       "  <thead>\n",
       "    <tr style=\"text-align: right;\">\n",
       "      <th></th>\n",
       "      <th>movieId</th>\n",
       "      <th>title</th>\n",
       "      <th>genres</th>\n",
       "    </tr>\n",
       "  </thead>\n",
       "  <tbody>\n",
       "    <tr>\n",
       "      <th>0</th>\n",
       "      <td>1</td>\n",
       "      <td>Toy Story (1995)</td>\n",
       "      <td>Adventure|Animation|Children|Comedy|Fantasy</td>\n",
       "    </tr>\n",
       "    <tr>\n",
       "      <th>1</th>\n",
       "      <td>2</td>\n",
       "      <td>Jumanji (1995)</td>\n",
       "      <td>Adventure|Children|Fantasy</td>\n",
       "    </tr>\n",
       "    <tr>\n",
       "      <th>2</th>\n",
       "      <td>3</td>\n",
       "      <td>Grumpier Old Men (1995)</td>\n",
       "      <td>Comedy|Romance</td>\n",
       "    </tr>\n",
       "    <tr>\n",
       "      <th>3</th>\n",
       "      <td>4</td>\n",
       "      <td>Waiting to Exhale (1995)</td>\n",
       "      <td>Comedy|Drama|Romance</td>\n",
       "    </tr>\n",
       "    <tr>\n",
       "      <th>4</th>\n",
       "      <td>5</td>\n",
       "      <td>Father of the Bride Part II (1995)</td>\n",
       "      <td>Comedy</td>\n",
       "    </tr>\n",
       "  </tbody>\n",
       "</table>\n",
       "</div>"
      ],
      "text/plain": [
       "   movieId                               title  \\\n",
       "0        1                    Toy Story (1995)   \n",
       "1        2                      Jumanji (1995)   \n",
       "2        3             Grumpier Old Men (1995)   \n",
       "3        4            Waiting to Exhale (1995)   \n",
       "4        5  Father of the Bride Part II (1995)   \n",
       "\n",
       "                                        genres  \n",
       "0  Adventure|Animation|Children|Comedy|Fantasy  \n",
       "1                   Adventure|Children|Fantasy  \n",
       "2                               Comedy|Romance  \n",
       "3                         Comedy|Drama|Romance  \n",
       "4                                       Comedy  "
      ]
     },
     "execution_count": 244,
     "metadata": {},
     "output_type": "execute_result"
    }
   ],
   "source": [
    "df_movies.head()"
   ]
  },
  {
   "cell_type": "code",
   "execution_count": 245,
   "metadata": {},
   "outputs": [
    {
     "name": "stdout",
     "output_type": "stream",
     "text": [
      "<class 'pandas.core.series.Series'>\n",
      "RangeIndex: 58098 entries, 0 to 58097\n",
      "Series name: genres\n",
      "Non-Null Count  Dtype \n",
      "--------------  ----- \n",
      "58098 non-null  object\n",
      "dtypes: object(1)\n",
      "memory usage: 454.0+ KB\n"
     ]
    }
   ],
   "source": [
    "df_movies[\"genres\"].info()"
   ]
  },
  {
   "cell_type": "code",
   "execution_count": 246,
   "metadata": {},
   "outputs": [
    {
     "data": {
      "text/html": [
       "<div>\n",
       "<style scoped>\n",
       "    .dataframe tbody tr th:only-of-type {\n",
       "        vertical-align: middle;\n",
       "    }\n",
       "\n",
       "    .dataframe tbody tr th {\n",
       "        vertical-align: top;\n",
       "    }\n",
       "\n",
       "    .dataframe thead th {\n",
       "        text-align: right;\n",
       "    }\n",
       "</style>\n",
       "<table border=\"1\" class=\"dataframe\">\n",
       "  <thead>\n",
       "    <tr style=\"text-align: right;\">\n",
       "      <th></th>\n",
       "      <th>userId</th>\n",
       "      <th>movieId</th>\n",
       "      <th>rating</th>\n",
       "      <th>timestamp</th>\n",
       "    </tr>\n",
       "  </thead>\n",
       "  <tbody>\n",
       "    <tr>\n",
       "      <th>0</th>\n",
       "      <td>1</td>\n",
       "      <td>307</td>\n",
       "      <td>3.5</td>\n",
       "      <td>1256677221</td>\n",
       "    </tr>\n",
       "    <tr>\n",
       "      <th>1</th>\n",
       "      <td>1</td>\n",
       "      <td>481</td>\n",
       "      <td>3.5</td>\n",
       "      <td>1256677456</td>\n",
       "    </tr>\n",
       "    <tr>\n",
       "      <th>2</th>\n",
       "      <td>1</td>\n",
       "      <td>1091</td>\n",
       "      <td>1.5</td>\n",
       "      <td>1256677471</td>\n",
       "    </tr>\n",
       "    <tr>\n",
       "      <th>3</th>\n",
       "      <td>1</td>\n",
       "      <td>1257</td>\n",
       "      <td>4.5</td>\n",
       "      <td>1256677460</td>\n",
       "    </tr>\n",
       "    <tr>\n",
       "      <th>4</th>\n",
       "      <td>1</td>\n",
       "      <td>1449</td>\n",
       "      <td>4.5</td>\n",
       "      <td>1256677264</td>\n",
       "    </tr>\n",
       "  </tbody>\n",
       "</table>\n",
       "</div>"
      ],
      "text/plain": [
       "   userId  movieId  rating   timestamp\n",
       "0       1      307     3.5  1256677221\n",
       "1       1      481     3.5  1256677456\n",
       "2       1     1091     1.5  1256677471\n",
       "3       1     1257     4.5  1256677460\n",
       "4       1     1449     4.5  1256677264"
      ]
     },
     "execution_count": 246,
     "metadata": {},
     "output_type": "execute_result"
    }
   ],
   "source": [
    "df_ratings.head()"
   ]
  },
  {
   "cell_type": "code",
   "execution_count": 247,
   "metadata": {},
   "outputs": [
    {
     "data": {
      "text/html": [
       "<div>\n",
       "<style scoped>\n",
       "    .dataframe tbody tr th:only-of-type {\n",
       "        vertical-align: middle;\n",
       "    }\n",
       "\n",
       "    .dataframe tbody tr th {\n",
       "        vertical-align: top;\n",
       "    }\n",
       "\n",
       "    .dataframe thead th {\n",
       "        text-align: right;\n",
       "    }\n",
       "</style>\n",
       "<table border=\"1\" class=\"dataframe\">\n",
       "  <thead>\n",
       "    <tr style=\"text-align: right;\">\n",
       "      <th></th>\n",
       "      <th>movieId</th>\n",
       "      <th>rating</th>\n",
       "    </tr>\n",
       "  </thead>\n",
       "  <tbody>\n",
       "    <tr>\n",
       "      <th>0</th>\n",
       "      <td>307</td>\n",
       "      <td>3.5</td>\n",
       "    </tr>\n",
       "    <tr>\n",
       "      <th>1</th>\n",
       "      <td>481</td>\n",
       "      <td>3.5</td>\n",
       "    </tr>\n",
       "    <tr>\n",
       "      <th>2</th>\n",
       "      <td>1091</td>\n",
       "      <td>1.5</td>\n",
       "    </tr>\n",
       "    <tr>\n",
       "      <th>3</th>\n",
       "      <td>1257</td>\n",
       "      <td>4.5</td>\n",
       "    </tr>\n",
       "    <tr>\n",
       "      <th>4</th>\n",
       "      <td>1449</td>\n",
       "      <td>4.5</td>\n",
       "    </tr>\n",
       "  </tbody>\n",
       "</table>\n",
       "</div>"
      ],
      "text/plain": [
       "   movieId  rating\n",
       "0      307     3.5\n",
       "1      481     3.5\n",
       "2     1091     1.5\n",
       "3     1257     4.5\n",
       "4     1449     4.5"
      ]
     },
     "execution_count": 247,
     "metadata": {},
     "output_type": "execute_result"
    }
   ],
   "source": [
    "# dropping userId and timestamp from the dataframe\n",
    "df_ratings_clean = df_ratings.drop([\"userId\", \"timestamp\"], axis=1)\n",
    "df_ratings_clean.head()"
   ]
  },
  {
   "cell_type": "code",
   "execution_count": 248,
   "metadata": {},
   "outputs": [
    {
     "name": "stderr",
     "output_type": "stream",
     "text": [
      "C:\\Users\\Sam Glass ITHS\\AppData\\Local\\Temp\\ipykernel_3008\\4251547743.py:2: FutureWarning: The default value of regex will change from True to False in a future version.\n",
      "  df_movies[\"title\"] = df_movies[\"title\"].str.replace(\"\\d+\", '').str.replace(r\"\\(.*\\)\",\"\") # This removes year from title\n"
     ]
    },
    {
     "data": {
      "text/html": [
       "<div>\n",
       "<style scoped>\n",
       "    .dataframe tbody tr th:only-of-type {\n",
       "        vertical-align: middle;\n",
       "    }\n",
       "\n",
       "    .dataframe tbody tr th {\n",
       "        vertical-align: top;\n",
       "    }\n",
       "\n",
       "    .dataframe thead th {\n",
       "        text-align: right;\n",
       "    }\n",
       "</style>\n",
       "<table border=\"1\" class=\"dataframe\">\n",
       "  <thead>\n",
       "    <tr style=\"text-align: right;\">\n",
       "      <th></th>\n",
       "      <th>movieId</th>\n",
       "      <th>title</th>\n",
       "      <th>genres</th>\n",
       "      <th>year</th>\n",
       "    </tr>\n",
       "  </thead>\n",
       "  <tbody>\n",
       "    <tr>\n",
       "      <th>0</th>\n",
       "      <td>1</td>\n",
       "      <td>Toy Story</td>\n",
       "      <td>Adventure|Animation|Children|Comedy|Fantasy</td>\n",
       "      <td>1995</td>\n",
       "    </tr>\n",
       "    <tr>\n",
       "      <th>1</th>\n",
       "      <td>2</td>\n",
       "      <td>Jumanji</td>\n",
       "      <td>Adventure|Children|Fantasy</td>\n",
       "      <td>1995</td>\n",
       "    </tr>\n",
       "    <tr>\n",
       "      <th>2</th>\n",
       "      <td>3</td>\n",
       "      <td>Grumpier Old Men</td>\n",
       "      <td>Comedy|Romance</td>\n",
       "      <td>1995</td>\n",
       "    </tr>\n",
       "    <tr>\n",
       "      <th>3</th>\n",
       "      <td>4</td>\n",
       "      <td>Waiting to Exhale</td>\n",
       "      <td>Comedy|Drama|Romance</td>\n",
       "      <td>1995</td>\n",
       "    </tr>\n",
       "    <tr>\n",
       "      <th>4</th>\n",
       "      <td>5</td>\n",
       "      <td>Father of the Bride Part II</td>\n",
       "      <td>Comedy</td>\n",
       "      <td>1995</td>\n",
       "    </tr>\n",
       "  </tbody>\n",
       "</table>\n",
       "</div>"
      ],
      "text/plain": [
       "   movieId                         title  \\\n",
       "0        1                    Toy Story    \n",
       "1        2                      Jumanji    \n",
       "2        3             Grumpier Old Men    \n",
       "3        4            Waiting to Exhale    \n",
       "4        5  Father of the Bride Part II    \n",
       "\n",
       "                                        genres  year  \n",
       "0  Adventure|Animation|Children|Comedy|Fantasy  1995  \n",
       "1                   Adventure|Children|Fantasy  1995  \n",
       "2                               Comedy|Romance  1995  \n",
       "3                         Comedy|Drama|Romance  1995  \n",
       "4                                       Comedy  1995  "
      ]
     },
     "execution_count": 248,
     "metadata": {},
     "output_type": "execute_result"
    }
   ],
   "source": [
    "df_movies[\"year\"] = df_movies.title.str.extract(\"\\((\\d{4})\\)\").replace(np.nan, \"0\").astype(\"int64\") # extracting the year from title and creating new column \n",
    "df_movies[\"title\"] = df_movies[\"title\"].str.replace(\"\\d+\", '').str.replace(r\"\\(.*\\)\",\"\") # This removes year from title\n",
    "\n",
    "df_movies.head()"
   ]
  },
  {
   "cell_type": "code",
   "execution_count": 249,
   "metadata": {},
   "outputs": [
    {
     "data": {
      "text/html": [
       "<div>\n",
       "<style scoped>\n",
       "    .dataframe tbody tr th:only-of-type {\n",
       "        vertical-align: middle;\n",
       "    }\n",
       "\n",
       "    .dataframe tbody tr th {\n",
       "        vertical-align: top;\n",
       "    }\n",
       "\n",
       "    .dataframe thead th {\n",
       "        text-align: right;\n",
       "    }\n",
       "</style>\n",
       "<table border=\"1\" class=\"dataframe\">\n",
       "  <thead>\n",
       "    <tr style=\"text-align: right;\">\n",
       "      <th></th>\n",
       "      <th>movieId</th>\n",
       "      <th>title</th>\n",
       "      <th>genres</th>\n",
       "      <th>year</th>\n",
       "      <th>(no genres listed)</th>\n",
       "      <th>Action</th>\n",
       "      <th>Adventure</th>\n",
       "      <th>Animation</th>\n",
       "      <th>Children</th>\n",
       "      <th>Comedy</th>\n",
       "      <th>...</th>\n",
       "      <th>Film-Noir</th>\n",
       "      <th>Horror</th>\n",
       "      <th>IMAX</th>\n",
       "      <th>Musical</th>\n",
       "      <th>Mystery</th>\n",
       "      <th>Romance</th>\n",
       "      <th>Sci-Fi</th>\n",
       "      <th>Thriller</th>\n",
       "      <th>War</th>\n",
       "      <th>Western</th>\n",
       "    </tr>\n",
       "  </thead>\n",
       "  <tbody>\n",
       "    <tr>\n",
       "      <th>0</th>\n",
       "      <td>1</td>\n",
       "      <td>Toy Story</td>\n",
       "      <td>Adventure|Animation|Children|Comedy|Fantasy</td>\n",
       "      <td>1995</td>\n",
       "      <td>0</td>\n",
       "      <td>0</td>\n",
       "      <td>1</td>\n",
       "      <td>1</td>\n",
       "      <td>1</td>\n",
       "      <td>1</td>\n",
       "      <td>...</td>\n",
       "      <td>0</td>\n",
       "      <td>0</td>\n",
       "      <td>0</td>\n",
       "      <td>0</td>\n",
       "      <td>0</td>\n",
       "      <td>0</td>\n",
       "      <td>0</td>\n",
       "      <td>0</td>\n",
       "      <td>0</td>\n",
       "      <td>0</td>\n",
       "    </tr>\n",
       "    <tr>\n",
       "      <th>1</th>\n",
       "      <td>2</td>\n",
       "      <td>Jumanji</td>\n",
       "      <td>Adventure|Children|Fantasy</td>\n",
       "      <td>1995</td>\n",
       "      <td>0</td>\n",
       "      <td>0</td>\n",
       "      <td>1</td>\n",
       "      <td>0</td>\n",
       "      <td>1</td>\n",
       "      <td>0</td>\n",
       "      <td>...</td>\n",
       "      <td>0</td>\n",
       "      <td>0</td>\n",
       "      <td>0</td>\n",
       "      <td>0</td>\n",
       "      <td>0</td>\n",
       "      <td>0</td>\n",
       "      <td>0</td>\n",
       "      <td>0</td>\n",
       "      <td>0</td>\n",
       "      <td>0</td>\n",
       "    </tr>\n",
       "    <tr>\n",
       "      <th>2</th>\n",
       "      <td>3</td>\n",
       "      <td>Grumpier Old Men</td>\n",
       "      <td>Comedy|Romance</td>\n",
       "      <td>1995</td>\n",
       "      <td>0</td>\n",
       "      <td>0</td>\n",
       "      <td>0</td>\n",
       "      <td>0</td>\n",
       "      <td>0</td>\n",
       "      <td>1</td>\n",
       "      <td>...</td>\n",
       "      <td>0</td>\n",
       "      <td>0</td>\n",
       "      <td>0</td>\n",
       "      <td>0</td>\n",
       "      <td>0</td>\n",
       "      <td>1</td>\n",
       "      <td>0</td>\n",
       "      <td>0</td>\n",
       "      <td>0</td>\n",
       "      <td>0</td>\n",
       "    </tr>\n",
       "    <tr>\n",
       "      <th>3</th>\n",
       "      <td>4</td>\n",
       "      <td>Waiting to Exhale</td>\n",
       "      <td>Comedy|Drama|Romance</td>\n",
       "      <td>1995</td>\n",
       "      <td>0</td>\n",
       "      <td>0</td>\n",
       "      <td>0</td>\n",
       "      <td>0</td>\n",
       "      <td>0</td>\n",
       "      <td>1</td>\n",
       "      <td>...</td>\n",
       "      <td>0</td>\n",
       "      <td>0</td>\n",
       "      <td>0</td>\n",
       "      <td>0</td>\n",
       "      <td>0</td>\n",
       "      <td>1</td>\n",
       "      <td>0</td>\n",
       "      <td>0</td>\n",
       "      <td>0</td>\n",
       "      <td>0</td>\n",
       "    </tr>\n",
       "    <tr>\n",
       "      <th>4</th>\n",
       "      <td>5</td>\n",
       "      <td>Father of the Bride Part II</td>\n",
       "      <td>Comedy</td>\n",
       "      <td>1995</td>\n",
       "      <td>0</td>\n",
       "      <td>0</td>\n",
       "      <td>0</td>\n",
       "      <td>0</td>\n",
       "      <td>0</td>\n",
       "      <td>1</td>\n",
       "      <td>...</td>\n",
       "      <td>0</td>\n",
       "      <td>0</td>\n",
       "      <td>0</td>\n",
       "      <td>0</td>\n",
       "      <td>0</td>\n",
       "      <td>0</td>\n",
       "      <td>0</td>\n",
       "      <td>0</td>\n",
       "      <td>0</td>\n",
       "      <td>0</td>\n",
       "    </tr>\n",
       "  </tbody>\n",
       "</table>\n",
       "<p>5 rows × 24 columns</p>\n",
       "</div>"
      ],
      "text/plain": [
       "   movieId                         title  \\\n",
       "0        1                    Toy Story    \n",
       "1        2                      Jumanji    \n",
       "2        3             Grumpier Old Men    \n",
       "3        4            Waiting to Exhale    \n",
       "4        5  Father of the Bride Part II    \n",
       "\n",
       "                                        genres  year  (no genres listed)  \\\n",
       "0  Adventure|Animation|Children|Comedy|Fantasy  1995                   0   \n",
       "1                   Adventure|Children|Fantasy  1995                   0   \n",
       "2                               Comedy|Romance  1995                   0   \n",
       "3                         Comedy|Drama|Romance  1995                   0   \n",
       "4                                       Comedy  1995                   0   \n",
       "\n",
       "   Action  Adventure  Animation  Children  Comedy  ...  Film-Noir  Horror  \\\n",
       "0       0          1          1         1       1  ...          0       0   \n",
       "1       0          1          0         1       0  ...          0       0   \n",
       "2       0          0          0         0       1  ...          0       0   \n",
       "3       0          0          0         0       1  ...          0       0   \n",
       "4       0          0          0         0       1  ...          0       0   \n",
       "\n",
       "   IMAX  Musical  Mystery  Romance  Sci-Fi  Thriller  War  Western  \n",
       "0     0        0        0        0       0         0    0        0  \n",
       "1     0        0        0        0       0         0    0        0  \n",
       "2     0        0        0        1       0         0    0        0  \n",
       "3     0        0        0        1       0         0    0        0  \n",
       "4     0        0        0        0       0         0    0        0  \n",
       "\n",
       "[5 rows x 24 columns]"
      ]
     },
     "execution_count": 249,
     "metadata": {},
     "output_type": "execute_result"
    }
   ],
   "source": [
    "dummies = df_movies[\"genres\"].str.get_dummies(sep=\"|\") # This separates all the genres into columns with 1 meaning true\n",
    "df_movies_genre_split = pd.concat([df_movies, dummies], axis=1)\n",
    "\n",
    "df_movies_genre_split.head()"
   ]
  },
  {
   "cell_type": "code",
   "execution_count": 250,
   "metadata": {},
   "outputs": [
    {
     "data": {
      "text/html": [
       "<div>\n",
       "<style scoped>\n",
       "    .dataframe tbody tr th:only-of-type {\n",
       "        vertical-align: middle;\n",
       "    }\n",
       "\n",
       "    .dataframe tbody tr th {\n",
       "        vertical-align: top;\n",
       "    }\n",
       "\n",
       "    .dataframe thead th {\n",
       "        text-align: right;\n",
       "    }\n",
       "</style>\n",
       "<table border=\"1\" class=\"dataframe\">\n",
       "  <thead>\n",
       "    <tr style=\"text-align: right;\">\n",
       "      <th></th>\n",
       "      <th>movieId</th>\n",
       "      <th>av_rating</th>\n",
       "    </tr>\n",
       "  </thead>\n",
       "  <tbody>\n",
       "    <tr>\n",
       "      <th>0</th>\n",
       "      <td>1</td>\n",
       "      <td>3.9</td>\n",
       "    </tr>\n",
       "    <tr>\n",
       "      <th>1</th>\n",
       "      <td>2</td>\n",
       "      <td>3.2</td>\n",
       "    </tr>\n",
       "    <tr>\n",
       "      <th>2</th>\n",
       "      <td>3</td>\n",
       "      <td>3.2</td>\n",
       "    </tr>\n",
       "    <tr>\n",
       "      <th>3</th>\n",
       "      <td>4</td>\n",
       "      <td>2.9</td>\n",
       "    </tr>\n",
       "    <tr>\n",
       "      <th>4</th>\n",
       "      <td>5</td>\n",
       "      <td>3.1</td>\n",
       "    </tr>\n",
       "  </tbody>\n",
       "</table>\n",
       "</div>"
      ],
      "text/plain": [
       "   movieId  av_rating\n",
       "0        1        3.9\n",
       "1        2        3.2\n",
       "2        3        3.2\n",
       "3        4        2.9\n",
       "4        5        3.1"
      ]
     },
     "execution_count": 250,
     "metadata": {},
     "output_type": "execute_result"
    }
   ],
   "source": [
    "# making a mean average rating of the movies from movie id and rating\n",
    "average_rating = df_ratings_clean.groupby(\"movieId\")[\"rating\"].mean().reset_index().round(decimals=1)\n",
    "average_rating.rename(columns={\"rating\":\"av_rating\"}, inplace=True)\n",
    "average_rating.head()"
   ]
  },
  {
   "cell_type": "code",
   "execution_count": 251,
   "metadata": {},
   "outputs": [
    {
     "data": {
      "text/html": [
       "<div>\n",
       "<style scoped>\n",
       "    .dataframe tbody tr th:only-of-type {\n",
       "        vertical-align: middle;\n",
       "    }\n",
       "\n",
       "    .dataframe tbody tr th {\n",
       "        vertical-align: top;\n",
       "    }\n",
       "\n",
       "    .dataframe thead th {\n",
       "        text-align: right;\n",
       "    }\n",
       "</style>\n",
       "<table border=\"1\" class=\"dataframe\">\n",
       "  <thead>\n",
       "    <tr style=\"text-align: right;\">\n",
       "      <th></th>\n",
       "      <th>movieId</th>\n",
       "      <th>Total ratings</th>\n",
       "    </tr>\n",
       "  </thead>\n",
       "  <tbody>\n",
       "    <tr>\n",
       "      <th>0</th>\n",
       "      <td>318</td>\n",
       "      <td>97999</td>\n",
       "    </tr>\n",
       "    <tr>\n",
       "      <th>1</th>\n",
       "      <td>356</td>\n",
       "      <td>97040</td>\n",
       "    </tr>\n",
       "    <tr>\n",
       "      <th>2</th>\n",
       "      <td>296</td>\n",
       "      <td>92406</td>\n",
       "    </tr>\n",
       "    <tr>\n",
       "      <th>3</th>\n",
       "      <td>593</td>\n",
       "      <td>87899</td>\n",
       "    </tr>\n",
       "    <tr>\n",
       "      <th>4</th>\n",
       "      <td>2571</td>\n",
       "      <td>84545</td>\n",
       "    </tr>\n",
       "  </tbody>\n",
       "</table>\n",
       "</div>"
      ],
      "text/plain": [
       "   movieId  Total ratings\n",
       "0      318          97999\n",
       "1      356          97040\n",
       "2      296          92406\n",
       "3      593          87899\n",
       "4     2571          84545"
      ]
     },
     "execution_count": 251,
     "metadata": {},
     "output_type": "execute_result"
    }
   ],
   "source": [
    "# adding a total ratings column\n",
    "amount_ratings = df_ratings_clean[[\"movieId\", \"rating\"]].value_counts(subset=[\"movieId\"]).to_frame(name=\"Total ratings\").reset_index()\n",
    "amount_ratings.head()"
   ]
  },
  {
   "cell_type": "code",
   "execution_count": 252,
   "metadata": {},
   "outputs": [
    {
     "data": {
      "text/html": [
       "<div>\n",
       "<style scoped>\n",
       "    .dataframe tbody tr th:only-of-type {\n",
       "        vertical-align: middle;\n",
       "    }\n",
       "\n",
       "    .dataframe tbody tr th {\n",
       "        vertical-align: top;\n",
       "    }\n",
       "\n",
       "    .dataframe thead th {\n",
       "        text-align: right;\n",
       "    }\n",
       "</style>\n",
       "<table border=\"1\" class=\"dataframe\">\n",
       "  <thead>\n",
       "    <tr style=\"text-align: right;\">\n",
       "      <th></th>\n",
       "      <th>movieId</th>\n",
       "      <th>title</th>\n",
       "      <th>genres</th>\n",
       "      <th>year</th>\n",
       "      <th>av_rating</th>\n",
       "      <th>Total ratings</th>\n",
       "    </tr>\n",
       "  </thead>\n",
       "  <tbody>\n",
       "    <tr>\n",
       "      <th>48583</th>\n",
       "      <td>180455</td>\n",
       "      <td>The End?</td>\n",
       "      <td>Horror</td>\n",
       "      <td>0</td>\n",
       "      <td>3.0</td>\n",
       "      <td>1</td>\n",
       "    </tr>\n",
       "    <tr>\n",
       "      <th>42117</th>\n",
       "      <td>165237</td>\n",
       "      <td>Amber Alert</td>\n",
       "      <td>(no genres listed)</td>\n",
       "      <td>0</td>\n",
       "      <td>3.3</td>\n",
       "      <td>5</td>\n",
       "    </tr>\n",
       "    <tr>\n",
       "      <th>52212</th>\n",
       "      <td>189325</td>\n",
       "      <td>The Change</td>\n",
       "      <td>Drama</td>\n",
       "      <td>0</td>\n",
       "      <td>3.5</td>\n",
       "      <td>1</td>\n",
       "    </tr>\n",
       "    <tr>\n",
       "      <th>42157</th>\n",
       "      <td>165345</td>\n",
       "      <td>Pad Yatra: A Green Odyssey</td>\n",
       "      <td>Adventure|Documentary</td>\n",
       "      <td>0</td>\n",
       "      <td>3.0</td>\n",
       "      <td>1</td>\n",
       "    </tr>\n",
       "    <tr>\n",
       "      <th>52114</th>\n",
       "      <td>189047</td>\n",
       "      <td>Veras Mantel</td>\n",
       "      <td>(no genres listed)</td>\n",
       "      <td>0</td>\n",
       "      <td>1.0</td>\n",
       "      <td>1</td>\n",
       "    </tr>\n",
       "  </tbody>\n",
       "</table>\n",
       "</div>"
      ],
      "text/plain": [
       "       movieId                       title                 genres  year  \\\n",
       "48583   180455                    The End?                 Horror     0   \n",
       "42117   165237                 Amber Alert     (no genres listed)     0   \n",
       "52212   189325                  The Change                  Drama     0   \n",
       "42157   165345  Pad Yatra: A Green Odyssey  Adventure|Documentary     0   \n",
       "52114   189047                Veras Mantel     (no genres listed)     0   \n",
       "\n",
       "       av_rating  Total ratings  \n",
       "48583        3.0              1  \n",
       "42117        3.3              5  \n",
       "52212        3.5              1  \n",
       "42157        3.0              1  \n",
       "52114        1.0              1  "
      ]
     },
     "execution_count": 252,
     "metadata": {},
     "output_type": "execute_result"
    }
   ],
   "source": [
    "# merging the two data frames together with the average and total amount of ratings\n",
    "df_complete_movie = df_movies.merge(average_rating, on=\"movieId\").merge(amount_ratings, on=\"movieId\")\n",
    "df_complete_movie = df_complete_movie.sort_values(by=[\"year\"], ascending=True)\n",
    "df_complete_movie.head()"
   ]
  },
  {
   "cell_type": "code",
   "execution_count": 253,
   "metadata": {},
   "outputs": [
    {
     "data": {
      "text/html": [
       "<div>\n",
       "<style scoped>\n",
       "    .dataframe tbody tr th:only-of-type {\n",
       "        vertical-align: middle;\n",
       "    }\n",
       "\n",
       "    .dataframe tbody tr th {\n",
       "        vertical-align: top;\n",
       "    }\n",
       "\n",
       "    .dataframe thead th {\n",
       "        text-align: right;\n",
       "    }\n",
       "</style>\n",
       "<table border=\"1\" class=\"dataframe\">\n",
       "  <thead>\n",
       "    <tr style=\"text-align: right;\">\n",
       "      <th></th>\n",
       "      <th>movieId</th>\n",
       "      <th>title</th>\n",
       "      <th>genres</th>\n",
       "      <th>year</th>\n",
       "      <th>av_rating</th>\n",
       "      <th>Total ratings</th>\n",
       "    </tr>\n",
       "  </thead>\n",
       "  <tbody>\n",
       "    <tr>\n",
       "      <th>35783</th>\n",
       "      <td>148054</td>\n",
       "      <td>Passage de Venus</td>\n",
       "      <td>Documentary</td>\n",
       "      <td>1874</td>\n",
       "      <td>2.6</td>\n",
       "      <td>10</td>\n",
       "    </tr>\n",
       "    <tr>\n",
       "      <th>35780</th>\n",
       "      <td>148048</td>\n",
       "      <td>Sallie Gardner at a Gallop</td>\n",
       "      <td>(no genres listed)</td>\n",
       "      <td>1878</td>\n",
       "      <td>2.9</td>\n",
       "      <td>14</td>\n",
       "    </tr>\n",
       "    <tr>\n",
       "      <th>42738</th>\n",
       "      <td>166800</td>\n",
       "      <td>Buffalo Running</td>\n",
       "      <td>(no genres listed)</td>\n",
       "      <td>1883</td>\n",
       "      <td>2.3</td>\n",
       "      <td>5</td>\n",
       "    </tr>\n",
       "    <tr>\n",
       "      <th>35776</th>\n",
       "      <td>148040</td>\n",
       "      <td>Man Walking Around a Corner</td>\n",
       "      <td>(no genres listed)</td>\n",
       "      <td>1887</td>\n",
       "      <td>1.8</td>\n",
       "      <td>9</td>\n",
       "    </tr>\n",
       "    <tr>\n",
       "      <th>48600</th>\n",
       "      <td>180503</td>\n",
       "      <td>Pferd und Reiter Springen Über ein Hindernis</td>\n",
       "      <td>Documentary</td>\n",
       "      <td>1888</td>\n",
       "      <td>1.5</td>\n",
       "      <td>2</td>\n",
       "    </tr>\n",
       "  </tbody>\n",
       "</table>\n",
       "</div>"
      ],
      "text/plain": [
       "       movieId                                          title  \\\n",
       "35783   148054                              Passage de Venus    \n",
       "35780   148048                    Sallie Gardner at a Gallop    \n",
       "42738   166800                               Buffalo Running    \n",
       "35776   148040                   Man Walking Around a Corner    \n",
       "48600   180503  Pferd und Reiter Springen Über ein Hindernis    \n",
       "\n",
       "                   genres  year  av_rating  Total ratings  \n",
       "35783         Documentary  1874        2.6             10  \n",
       "35780  (no genres listed)  1878        2.9             14  \n",
       "42738  (no genres listed)  1883        2.3              5  \n",
       "35776  (no genres listed)  1887        1.8              9  \n",
       "48600         Documentary  1888        1.5              2  "
      ]
     },
     "execution_count": 253,
     "metadata": {},
     "output_type": "execute_result"
    }
   ],
   "source": [
    "# There were movies that did not contain a year. So to away them as they were represented with 0\n",
    "df_complete_movie = df_complete_movie[(df_complete_movie['year'] > 0)]\n",
    "df_complete_movie.head()"
   ]
  },
  {
   "attachments": {},
   "cell_type": "markdown",
   "metadata": {},
   "source": [
    "### Now i will do some exploitative plots on my complete dataset"
   ]
  },
  {
   "attachments": {},
   "cell_type": "markdown",
   "metadata": {},
   "source": [
    "#### a) I will search some of my own eda and plots"
   ]
  },
  {
   "cell_type": "code",
   "execution_count": 254,
   "metadata": {},
   "outputs": [
    {
     "data": {
      "text/plain": [
       "[Text(0.5, 1.0, 'Rate of films over years')]"
      ]
     },
     "execution_count": 254,
     "metadata": {},
     "output_type": "execute_result"
    },
    {
     "data": {
      "image/png": "[encoded data removed]",
      "text/plain": [
       "<Figure size 640x480 with 1 Axes>"
      ]
     },
     "metadata": {},
     "output_type": "display_data"
    }
   ],
   "source": [
    "# using histplot to show the amount of films by year\n",
    "sns.histplot(data= df_complete_movie, x = \"year\").set(title=\"Rate of films over years\") "
   ]
  },
  {
   "attachments": {},
   "cell_type": "markdown",
   "metadata": {},
   "source": [
    "b)"
   ]
  },
  {
   "cell_type": "code",
   "execution_count": 255,
   "metadata": {},
   "outputs": [
    {
     "data": {
      "text/html": [
       "<div>\n",
       "<style scoped>\n",
       "    .dataframe tbody tr th:only-of-type {\n",
       "        vertical-align: middle;\n",
       "    }\n",
       "\n",
       "    .dataframe tbody tr th {\n",
       "        vertical-align: top;\n",
       "    }\n",
       "\n",
       "    .dataframe thead th {\n",
       "        text-align: right;\n",
       "    }\n",
       "</style>\n",
       "<table border=\"1\" class=\"dataframe\">\n",
       "  <thead>\n",
       "    <tr style=\"text-align: right;\">\n",
       "      <th></th>\n",
       "      <th>movieId</th>\n",
       "      <th>title</th>\n",
       "      <th>genres</th>\n",
       "      <th>year</th>\n",
       "      <th>av_rating</th>\n",
       "      <th>Total ratings</th>\n",
       "    </tr>\n",
       "  </thead>\n",
       "  <tbody>\n",
       "    <tr>\n",
       "      <th>315</th>\n",
       "      <td>318</td>\n",
       "      <td>Shawshank Redemption, The</td>\n",
       "      <td>Crime|Drama</td>\n",
       "      <td>1994</td>\n",
       "      <td>4.4</td>\n",
       "      <td>97999</td>\n",
       "    </tr>\n",
       "    <tr>\n",
       "      <th>352</th>\n",
       "      <td>356</td>\n",
       "      <td>Forrest Gump</td>\n",
       "      <td>Comedy|Drama|Romance|War</td>\n",
       "      <td>1994</td>\n",
       "      <td>4.1</td>\n",
       "      <td>97040</td>\n",
       "    </tr>\n",
       "    <tr>\n",
       "      <th>293</th>\n",
       "      <td>296</td>\n",
       "      <td>Pulp Fiction</td>\n",
       "      <td>Comedy|Crime|Drama|Thriller</td>\n",
       "      <td>1994</td>\n",
       "      <td>4.2</td>\n",
       "      <td>92406</td>\n",
       "    </tr>\n",
       "    <tr>\n",
       "      <th>587</th>\n",
       "      <td>593</td>\n",
       "      <td>Silence of the Lambs, The</td>\n",
       "      <td>Crime|Horror|Thriller</td>\n",
       "      <td>1991</td>\n",
       "      <td>4.2</td>\n",
       "      <td>87899</td>\n",
       "    </tr>\n",
       "    <tr>\n",
       "      <th>2487</th>\n",
       "      <td>2571</td>\n",
       "      <td>Matrix, The</td>\n",
       "      <td>Action|Sci-Fi|Thriller</td>\n",
       "      <td>1999</td>\n",
       "      <td>4.1</td>\n",
       "      <td>84545</td>\n",
       "    </tr>\n",
       "    <tr>\n",
       "      <th>257</th>\n",
       "      <td>260</td>\n",
       "      <td>Star Wars: Episode IV - A New Hope</td>\n",
       "      <td>Action|Adventure|Sci-Fi</td>\n",
       "      <td>1977</td>\n",
       "      <td>4.1</td>\n",
       "      <td>81815</td>\n",
       "    </tr>\n",
       "    <tr>\n",
       "      <th>476</th>\n",
       "      <td>480</td>\n",
       "      <td>Jurassic Park</td>\n",
       "      <td>Action|Adventure|Sci-Fi|Thriller</td>\n",
       "      <td>1993</td>\n",
       "      <td>3.7</td>\n",
       "      <td>76451</td>\n",
       "    </tr>\n",
       "    <tr>\n",
       "      <th>523</th>\n",
       "      <td>527</td>\n",
       "      <td>Schindler's List</td>\n",
       "      <td>Drama|War</td>\n",
       "      <td>1993</td>\n",
       "      <td>4.3</td>\n",
       "      <td>71516</td>\n",
       "    </tr>\n",
       "    <tr>\n",
       "      <th>108</th>\n",
       "      <td>110</td>\n",
       "      <td>Braveheart</td>\n",
       "      <td>Action|Drama|War</td>\n",
       "      <td>1995</td>\n",
       "      <td>4.0</td>\n",
       "      <td>68803</td>\n",
       "    </tr>\n",
       "    <tr>\n",
       "      <th>0</th>\n",
       "      <td>1</td>\n",
       "      <td>Toy Story</td>\n",
       "      <td>Adventure|Animation|Children|Comedy|Fantasy</td>\n",
       "      <td>1995</td>\n",
       "      <td>3.9</td>\n",
       "      <td>68469</td>\n",
       "    </tr>\n",
       "  </tbody>\n",
       "</table>\n",
       "</div>"
      ],
      "text/plain": [
       "      movieId                                title  \\\n",
       "315       318           Shawshank Redemption, The    \n",
       "352       356                        Forrest Gump    \n",
       "293       296                        Pulp Fiction    \n",
       "587       593           Silence of the Lambs, The    \n",
       "2487     2571                         Matrix, The    \n",
       "257       260  Star Wars: Episode IV - A New Hope    \n",
       "476       480                       Jurassic Park    \n",
       "523       527                    Schindler's List    \n",
       "108       110                          Braveheart    \n",
       "0           1                           Toy Story    \n",
       "\n",
       "                                           genres  year  av_rating  \\\n",
       "315                                   Crime|Drama  1994        4.4   \n",
       "352                      Comedy|Drama|Romance|War  1994        4.1   \n",
       "293                   Comedy|Crime|Drama|Thriller  1994        4.2   \n",
       "587                         Crime|Horror|Thriller  1991        4.2   \n",
       "2487                       Action|Sci-Fi|Thriller  1999        4.1   \n",
       "257                       Action|Adventure|Sci-Fi  1977        4.1   \n",
       "476              Action|Adventure|Sci-Fi|Thriller  1993        3.7   \n",
       "523                                     Drama|War  1993        4.3   \n",
       "108                              Action|Drama|War  1995        4.0   \n",
       "0     Adventure|Animation|Children|Comedy|Fantasy  1995        3.9   \n",
       "\n",
       "      Total ratings  \n",
       "315           97999  \n",
       "352           97040  \n",
       "293           92406  \n",
       "587           87899  \n",
       "2487          84545  \n",
       "257           81815  \n",
       "476           76451  \n",
       "523           71516  \n",
       "108           68803  \n",
       "0             68469  "
      ]
     },
     "execution_count": 255,
     "metadata": {},
     "output_type": "execute_result"
    }
   ],
   "source": [
    "# creating a dataframe with top ten movies with highest ratings. \n",
    "top_ten_most_rate = df_complete_movie.sort_values(by=[\"Total ratings\"], ascending=False, inplace=True)\n",
    "top_ten_most_rate = df_complete_movie[:10]\n",
    "top_ten_most_rate"
   ]
  },
  {
   "cell_type": "code",
   "execution_count": 256,
   "metadata": {},
   "outputs": [
    {
     "data": {
      "image/png": "[encoded data removed]",
      "text/plain": [
       "<Figure size 1000x600 with 1 Axes>"
      ]
     },
     "metadata": {},
     "output_type": "display_data"
    }
   ],
   "source": [
    "# plotting the top ten movies with most ratings \n",
    "fig, ax = plt.subplots(1,1, figsize=(10,6))\n",
    "sns.barplot(data=top_ten_most_rate, x=\"title\", y=\"Total ratings\")\n",
    "ax.tick_params(axis='x', rotation=85)\n",
    "ax.set(title=\"Top Ten movies with most ratings\", xlabel=\"Title\") \n",
    "\n",
    "plt.show();\n"
   ]
  },
  {
   "attachments": {},
   "cell_type": "markdown",
   "metadata": {},
   "source": [
    "c) I have answered this question within the dataframe beforehand. I decided to do a column of average rating for all the films in my dataset, so I was able to answer this question. here is the datframe again"
   ]
  },
  {
   "cell_type": "code",
   "execution_count": 257,
   "metadata": {},
   "outputs": [
    {
     "data": {
      "text/html": [
       "<div>\n",
       "<style scoped>\n",
       "    .dataframe tbody tr th:only-of-type {\n",
       "        vertical-align: middle;\n",
       "    }\n",
       "\n",
       "    .dataframe tbody tr th {\n",
       "        vertical-align: top;\n",
       "    }\n",
       "\n",
       "    .dataframe thead th {\n",
       "        text-align: right;\n",
       "    }\n",
       "</style>\n",
       "<table border=\"1\" class=\"dataframe\">\n",
       "  <thead>\n",
       "    <tr style=\"text-align: right;\">\n",
       "      <th></th>\n",
       "      <th>movieId</th>\n",
       "      <th>title</th>\n",
       "      <th>genres</th>\n",
       "      <th>year</th>\n",
       "      <th>av_rating</th>\n",
       "      <th>Total ratings</th>\n",
       "    </tr>\n",
       "  </thead>\n",
       "  <tbody>\n",
       "    <tr>\n",
       "      <th>315</th>\n",
       "      <td>318</td>\n",
       "      <td>Shawshank Redemption, The</td>\n",
       "      <td>Crime|Drama</td>\n",
       "      <td>1994</td>\n",
       "      <td>4.4</td>\n",
       "      <td>97999</td>\n",
       "    </tr>\n",
       "    <tr>\n",
       "      <th>352</th>\n",
       "      <td>356</td>\n",
       "      <td>Forrest Gump</td>\n",
       "      <td>Comedy|Drama|Romance|War</td>\n",
       "      <td>1994</td>\n",
       "      <td>4.1</td>\n",
       "      <td>97040</td>\n",
       "    </tr>\n",
       "    <tr>\n",
       "      <th>293</th>\n",
       "      <td>296</td>\n",
       "      <td>Pulp Fiction</td>\n",
       "      <td>Comedy|Crime|Drama|Thriller</td>\n",
       "      <td>1994</td>\n",
       "      <td>4.2</td>\n",
       "      <td>92406</td>\n",
       "    </tr>\n",
       "    <tr>\n",
       "      <th>587</th>\n",
       "      <td>593</td>\n",
       "      <td>Silence of the Lambs, The</td>\n",
       "      <td>Crime|Horror|Thriller</td>\n",
       "      <td>1991</td>\n",
       "      <td>4.2</td>\n",
       "      <td>87899</td>\n",
       "    </tr>\n",
       "    <tr>\n",
       "      <th>2487</th>\n",
       "      <td>2571</td>\n",
       "      <td>Matrix, The</td>\n",
       "      <td>Action|Sci-Fi|Thriller</td>\n",
       "      <td>1999</td>\n",
       "      <td>4.1</td>\n",
       "      <td>84545</td>\n",
       "    </tr>\n",
       "    <tr>\n",
       "      <th>257</th>\n",
       "      <td>260</td>\n",
       "      <td>Star Wars: Episode IV - A New Hope</td>\n",
       "      <td>Action|Adventure|Sci-Fi</td>\n",
       "      <td>1977</td>\n",
       "      <td>4.1</td>\n",
       "      <td>81815</td>\n",
       "    </tr>\n",
       "    <tr>\n",
       "      <th>476</th>\n",
       "      <td>480</td>\n",
       "      <td>Jurassic Park</td>\n",
       "      <td>Action|Adventure|Sci-Fi|Thriller</td>\n",
       "      <td>1993</td>\n",
       "      <td>3.7</td>\n",
       "      <td>76451</td>\n",
       "    </tr>\n",
       "    <tr>\n",
       "      <th>523</th>\n",
       "      <td>527</td>\n",
       "      <td>Schindler's List</td>\n",
       "      <td>Drama|War</td>\n",
       "      <td>1993</td>\n",
       "      <td>4.3</td>\n",
       "      <td>71516</td>\n",
       "    </tr>\n",
       "    <tr>\n",
       "      <th>108</th>\n",
       "      <td>110</td>\n",
       "      <td>Braveheart</td>\n",
       "      <td>Action|Drama|War</td>\n",
       "      <td>1995</td>\n",
       "      <td>4.0</td>\n",
       "      <td>68803</td>\n",
       "    </tr>\n",
       "    <tr>\n",
       "      <th>0</th>\n",
       "      <td>1</td>\n",
       "      <td>Toy Story</td>\n",
       "      <td>Adventure|Animation|Children|Comedy|Fantasy</td>\n",
       "      <td>1995</td>\n",
       "      <td>3.9</td>\n",
       "      <td>68469</td>\n",
       "    </tr>\n",
       "  </tbody>\n",
       "</table>\n",
       "</div>"
      ],
      "text/plain": [
       "      movieId                                title  \\\n",
       "315       318           Shawshank Redemption, The    \n",
       "352       356                        Forrest Gump    \n",
       "293       296                        Pulp Fiction    \n",
       "587       593           Silence of the Lambs, The    \n",
       "2487     2571                         Matrix, The    \n",
       "257       260  Star Wars: Episode IV - A New Hope    \n",
       "476       480                       Jurassic Park    \n",
       "523       527                    Schindler's List    \n",
       "108       110                          Braveheart    \n",
       "0           1                           Toy Story    \n",
       "\n",
       "                                           genres  year  av_rating  \\\n",
       "315                                   Crime|Drama  1994        4.4   \n",
       "352                      Comedy|Drama|Romance|War  1994        4.1   \n",
       "293                   Comedy|Crime|Drama|Thriller  1994        4.2   \n",
       "587                         Crime|Horror|Thriller  1991        4.2   \n",
       "2487                       Action|Sci-Fi|Thriller  1999        4.1   \n",
       "257                       Action|Adventure|Sci-Fi  1977        4.1   \n",
       "476              Action|Adventure|Sci-Fi|Thriller  1993        3.7   \n",
       "523                                     Drama|War  1993        4.3   \n",
       "108                              Action|Drama|War  1995        4.0   \n",
       "0     Adventure|Animation|Children|Comedy|Fantasy  1995        3.9   \n",
       "\n",
       "      Total ratings  \n",
       "315           97999  \n",
       "352           97040  \n",
       "293           92406  \n",
       "587           87899  \n",
       "2487          84545  \n",
       "257           81815  \n",
       "476           76451  \n",
       "523           71516  \n",
       "108           68803  \n",
       "0             68469  "
      ]
     },
     "execution_count": 257,
     "metadata": {},
     "output_type": "execute_result"
    }
   ],
   "source": [
    "top_ten_most_rate"
   ]
  },
  {
   "attachments": {},
   "cell_type": "markdown",
   "metadata": {},
   "source": [
    "d)"
   ]
  },
  {
   "cell_type": "code",
   "execution_count": 258,
   "metadata": {},
   "outputs": [
    {
     "data": {
      "text/html": [
       "<div>\n",
       "<style scoped>\n",
       "    .dataframe tbody tr th:only-of-type {\n",
       "        vertical-align: middle;\n",
       "    }\n",
       "\n",
       "    .dataframe tbody tr th {\n",
       "        vertical-align: top;\n",
       "    }\n",
       "\n",
       "    .dataframe thead th {\n",
       "        text-align: right;\n",
       "    }\n",
       "</style>\n",
       "<table border=\"1\" class=\"dataframe\">\n",
       "  <thead>\n",
       "    <tr style=\"text-align: right;\">\n",
       "      <th></th>\n",
       "      <th>movieId</th>\n",
       "      <th>title</th>\n",
       "      <th>genres</th>\n",
       "      <th>av_rating</th>\n",
       "      <th>Total ratings</th>\n",
       "    </tr>\n",
       "    <tr>\n",
       "      <th>year</th>\n",
       "      <th></th>\n",
       "      <th></th>\n",
       "      <th></th>\n",
       "      <th></th>\n",
       "      <th></th>\n",
       "    </tr>\n",
       "  </thead>\n",
       "  <tbody>\n",
       "    <tr>\n",
       "      <th>1874</th>\n",
       "      <td>1</td>\n",
       "      <td>1</td>\n",
       "      <td>1</td>\n",
       "      <td>1</td>\n",
       "      <td>1</td>\n",
       "    </tr>\n",
       "    <tr>\n",
       "      <th>1878</th>\n",
       "      <td>1</td>\n",
       "      <td>1</td>\n",
       "      <td>1</td>\n",
       "      <td>1</td>\n",
       "      <td>1</td>\n",
       "    </tr>\n",
       "    <tr>\n",
       "      <th>1883</th>\n",
       "      <td>1</td>\n",
       "      <td>1</td>\n",
       "      <td>1</td>\n",
       "      <td>1</td>\n",
       "      <td>1</td>\n",
       "    </tr>\n",
       "    <tr>\n",
       "      <th>1887</th>\n",
       "      <td>1</td>\n",
       "      <td>1</td>\n",
       "      <td>1</td>\n",
       "      <td>1</td>\n",
       "      <td>1</td>\n",
       "    </tr>\n",
       "    <tr>\n",
       "      <th>1888</th>\n",
       "      <td>4</td>\n",
       "      <td>4</td>\n",
       "      <td>4</td>\n",
       "      <td>4</td>\n",
       "      <td>4</td>\n",
       "    </tr>\n",
       "  </tbody>\n",
       "</table>\n",
       "</div>"
      ],
      "text/plain": [
       "      movieId  title  genres  av_rating  Total ratings\n",
       "year                                                  \n",
       "1874        1      1       1          1              1\n",
       "1878        1      1       1          1              1\n",
       "1883        1      1       1          1              1\n",
       "1887        1      1       1          1              1\n",
       "1888        4      4       4          4              4"
      ]
     },
     "execution_count": 258,
     "metadata": {},
     "output_type": "execute_result"
    }
   ],
   "source": [
    "# The group by function groups the years then a count is done. Movie Id has the amount of counts represent the year\n",
    "total_films_years = df_complete_movie.groupby([\"year\"]).count()\n",
    "total_films_years.head()"
   ]
  },
  {
   "cell_type": "code",
   "execution_count": 259,
   "metadata": {},
   "outputs": [
    {
     "data": {
      "image/png": "[encoded data removed]",
      "text/plain": [
       "<Figure size 1000x600 with 1 Axes>"
      ]
     },
     "metadata": {},
     "output_type": "display_data"
    }
   ],
   "source": [
    "fig, ax = plt.subplots(1,1, figsize=(10,6))\n",
    "sns.lineplot(data=total_films_years, x=\"year\", y=\"movieId\")\n",
    "ax.set(title=\"Rate of films by year\", xlabel=\"Year\", ylabel= \"movie amount\") \n",
    "\n",
    "plt.show();"
   ]
  },
  {
   "attachments": {},
   "cell_type": "markdown",
   "metadata": {},
   "source": [
    "e)"
   ]
  },
  {
   "cell_type": "code",
   "execution_count": 260,
   "metadata": {},
   "outputs": [
    {
     "data": {
      "image/png": "[encoded data removed]",
      "text/plain": [
       "<Figure size 1000x600 with 1 Axes>"
      ]
     },
     "metadata": {},
     "output_type": "display_data"
    }
   ],
   "source": [
    "# I previously added a total ratings colum to the dataset so I could plot directly\n",
    "fig, ax = plt.subplots(1,1, figsize=(10,6))\n",
    "sns.lineplot(data=df_complete_movie, x=\"movieId\", y=\"Total ratings\")\n",
    "# rotating the labels\n",
    "ax.tick_params(axis='x', rotation=85)\n",
    "ax.set(title=\"Total ratings for each Movie Id\", xlabel=\"Movie Id\") \n",
    "\n",
    "plt.show();"
   ]
  },
  {
   "attachments": {},
   "cell_type": "markdown",
   "metadata": {},
   "source": [
    "f) "
   ]
  },
  {
   "cell_type": "code",
   "execution_count": 261,
   "metadata": {},
   "outputs": [
    {
     "data": {
      "image/png": "[encoded data removed]",
      "text/plain": [
       "<Figure size 1000x600 with 1 Axes>"
      ]
     },
     "metadata": {},
     "output_type": "display_data"
    }
   ],
   "source": [
    "# creating a top ten movie barplot for average rating of top ten films\n",
    "fig, ax = plt.subplots(1,1, figsize=(10,6))\n",
    "sns.barplot(data=top_ten_most_rate, x=\"title\", y=\"av_rating\")\n",
    "ax.tick_params(axis='x', rotation=85)\n",
    "ax.set(title=\"Top Ten movies with most ratings\", xlabel=\"Title\") \n",
    "\n",
    "plt.show();"
   ]
  },
  {
   "attachments": {},
   "cell_type": "markdown",
   "metadata": {},
   "source": [
    "## 1.2 Gles Matrix"
   ]
  },
  {
   "attachments": {},
   "cell_type": "markdown",
   "metadata": {},
   "source": [
    "I will now create a Gles matrix and try to filter my data. \n",
    "First I will clean up the ratings data frame to reduce the amount of the data"
   ]
  },
  {
   "cell_type": "code",
   "execution_count": 262,
   "metadata": {},
   "outputs": [
    {
     "data": {
      "text/html": [
       "<div>\n",
       "<style scoped>\n",
       "    .dataframe tbody tr th:only-of-type {\n",
       "        vertical-align: middle;\n",
       "    }\n",
       "\n",
       "    .dataframe tbody tr th {\n",
       "        vertical-align: top;\n",
       "    }\n",
       "\n",
       "    .dataframe thead th {\n",
       "        text-align: right;\n",
       "    }\n",
       "</style>\n",
       "<table border=\"1\" class=\"dataframe\">\n",
       "  <thead>\n",
       "    <tr style=\"text-align: right;\">\n",
       "      <th></th>\n",
       "      <th>userId</th>\n",
       "      <th>movieId</th>\n",
       "      <th>rating</th>\n",
       "      <th>timestamp</th>\n",
       "    </tr>\n",
       "  </thead>\n",
       "  <tbody>\n",
       "    <tr>\n",
       "      <th>0</th>\n",
       "      <td>1</td>\n",
       "      <td>307</td>\n",
       "      <td>3.5</td>\n",
       "      <td>1256677221</td>\n",
       "    </tr>\n",
       "    <tr>\n",
       "      <th>1</th>\n",
       "      <td>1</td>\n",
       "      <td>481</td>\n",
       "      <td>3.5</td>\n",
       "      <td>1256677456</td>\n",
       "    </tr>\n",
       "    <tr>\n",
       "      <th>2</th>\n",
       "      <td>1</td>\n",
       "      <td>1091</td>\n",
       "      <td>1.5</td>\n",
       "      <td>1256677471</td>\n",
       "    </tr>\n",
       "    <tr>\n",
       "      <th>3</th>\n",
       "      <td>1</td>\n",
       "      <td>1257</td>\n",
       "      <td>4.5</td>\n",
       "      <td>1256677460</td>\n",
       "    </tr>\n",
       "    <tr>\n",
       "      <th>4</th>\n",
       "      <td>1</td>\n",
       "      <td>1449</td>\n",
       "      <td>4.5</td>\n",
       "      <td>1256677264</td>\n",
       "    </tr>\n",
       "  </tbody>\n",
       "</table>\n",
       "</div>"
      ],
      "text/plain": [
       "   userId  movieId  rating   timestamp\n",
       "0       1      307     3.5  1256677221\n",
       "1       1      481     3.5  1256677456\n",
       "2       1     1091     1.5  1256677471\n",
       "3       1     1257     4.5  1256677460\n",
       "4       1     1449     4.5  1256677264"
      ]
     },
     "execution_count": 262,
     "metadata": {},
     "output_type": "execute_result"
    }
   ],
   "source": [
    "df_ratings.head()"
   ]
  },
  {
   "cell_type": "code",
   "execution_count": 263,
   "metadata": {},
   "outputs": [
    {
     "data": {
      "text/html": [
       "<div>\n",
       "<style scoped>\n",
       "    .dataframe tbody tr th:only-of-type {\n",
       "        vertical-align: middle;\n",
       "    }\n",
       "\n",
       "    .dataframe tbody tr th {\n",
       "        vertical-align: top;\n",
       "    }\n",
       "\n",
       "    .dataframe thead th {\n",
       "        text-align: right;\n",
       "    }\n",
       "</style>\n",
       "<table border=\"1\" class=\"dataframe\">\n",
       "  <thead>\n",
       "    <tr style=\"text-align: right;\">\n",
       "      <th></th>\n",
       "      <th>userId</th>\n",
       "      <th>movieId</th>\n",
       "      <th>rating</th>\n",
       "    </tr>\n",
       "  </thead>\n",
       "  <tbody>\n",
       "    <tr>\n",
       "      <th>0</th>\n",
       "      <td>1</td>\n",
       "      <td>307</td>\n",
       "      <td>3.5</td>\n",
       "    </tr>\n",
       "    <tr>\n",
       "      <th>1</th>\n",
       "      <td>1</td>\n",
       "      <td>481</td>\n",
       "      <td>3.5</td>\n",
       "    </tr>\n",
       "    <tr>\n",
       "      <th>2</th>\n",
       "      <td>1</td>\n",
       "      <td>1091</td>\n",
       "      <td>1.5</td>\n",
       "    </tr>\n",
       "    <tr>\n",
       "      <th>3</th>\n",
       "      <td>1</td>\n",
       "      <td>1257</td>\n",
       "      <td>4.5</td>\n",
       "    </tr>\n",
       "    <tr>\n",
       "      <th>4</th>\n",
       "      <td>1</td>\n",
       "      <td>1449</td>\n",
       "      <td>4.5</td>\n",
       "    </tr>\n",
       "  </tbody>\n",
       "</table>\n",
       "</div>"
      ],
      "text/plain": [
       "   userId  movieId  rating\n",
       "0       1      307     3.5\n",
       "1       1      481     3.5\n",
       "2       1     1091     1.5\n",
       "3       1     1257     4.5\n",
       "4       1     1449     4.5"
      ]
     },
     "execution_count": 263,
     "metadata": {},
     "output_type": "execute_result"
    }
   ],
   "source": [
    "ratings = df_ratings_clean = df_ratings.drop([\"timestamp\"], axis=1) # removing the timestamp\n",
    "ratings.head()"
   ]
  },
  {
   "cell_type": "code",
   "execution_count": 264,
   "metadata": {},
   "outputs": [
    {
     "data": {
      "text/plain": [
       "123100    23715\n",
       "117490     9279\n",
       "134596     8381\n",
       "212343     7884\n",
       "242683     7515\n",
       "Name: userId, dtype: int64"
      ]
     },
     "execution_count": 264,
     "metadata": {},
     "output_type": "execute_result"
    }
   ],
   "source": [
    "amount_of_votes = ratings[\"userId\"].value_counts()\n",
    "amount_of_votes.head()\n"
   ]
  },
  {
   "attachments": {},
   "cell_type": "markdown",
   "metadata": {},
   "source": [
    "#### Filtering my data set to make it smaller. I have decided to filter out users that have voted less then 5 times and users that have voted more than 500 times"
   ]
  },
  {
   "cell_type": "code",
   "execution_count": 265,
   "metadata": {},
   "outputs": [],
   "source": [
    "def user_filter(min, max ):\n",
    "    \"\"\" creates a min and max user rating amount to be used on data frame based on user ID\"\"\"\n",
    "    df_filtered = ratings[ratings[\"userId\"].map(ratings[\"userId\"].value_counts()) > min] # Filter out user id that has less than 5 votes\n",
    "    df_filtered = ratings[ratings[\"userId\"].map(ratings[\"userId\"].value_counts()) < max] # filters out user id that has voted more than 500 times\n",
    "    return df_filtered\n"
   ]
  },
  {
   "cell_type": "code",
   "execution_count": 266,
   "metadata": {},
   "outputs": [
    {
     "data": {
      "text/html": [
       "<div>\n",
       "<style scoped>\n",
       "    .dataframe tbody tr th:only-of-type {\n",
       "        vertical-align: middle;\n",
       "    }\n",
       "\n",
       "    .dataframe tbody tr th {\n",
       "        vertical-align: top;\n",
       "    }\n",
       "\n",
       "    .dataframe thead th {\n",
       "        text-align: right;\n",
       "    }\n",
       "</style>\n",
       "<table border=\"1\" class=\"dataframe\">\n",
       "  <thead>\n",
       "    <tr style=\"text-align: right;\">\n",
       "      <th></th>\n",
       "      <th>userId</th>\n",
       "      <th>movieId</th>\n",
       "      <th>rating</th>\n",
       "    </tr>\n",
       "  </thead>\n",
       "  <tbody>\n",
       "    <tr>\n",
       "      <th>0</th>\n",
       "      <td>1</td>\n",
       "      <td>307</td>\n",
       "      <td>3.5</td>\n",
       "    </tr>\n",
       "    <tr>\n",
       "      <th>1</th>\n",
       "      <td>1</td>\n",
       "      <td>481</td>\n",
       "      <td>3.5</td>\n",
       "    </tr>\n",
       "    <tr>\n",
       "      <th>2</th>\n",
       "      <td>1</td>\n",
       "      <td>1091</td>\n",
       "      <td>1.5</td>\n",
       "    </tr>\n",
       "    <tr>\n",
       "      <th>3</th>\n",
       "      <td>1</td>\n",
       "      <td>1257</td>\n",
       "      <td>4.5</td>\n",
       "    </tr>\n",
       "    <tr>\n",
       "      <th>4</th>\n",
       "      <td>1</td>\n",
       "      <td>1449</td>\n",
       "      <td>4.5</td>\n",
       "    </tr>\n",
       "    <tr>\n",
       "      <th>...</th>\n",
       "      <td>...</td>\n",
       "      <td>...</td>\n",
       "      <td>...</td>\n",
       "    </tr>\n",
       "    <tr>\n",
       "      <th>27753439</th>\n",
       "      <td>283228</td>\n",
       "      <td>8542</td>\n",
       "      <td>4.5</td>\n",
       "    </tr>\n",
       "    <tr>\n",
       "      <th>27753440</th>\n",
       "      <td>283228</td>\n",
       "      <td>8712</td>\n",
       "      <td>4.5</td>\n",
       "    </tr>\n",
       "    <tr>\n",
       "      <th>27753441</th>\n",
       "      <td>283228</td>\n",
       "      <td>34405</td>\n",
       "      <td>4.5</td>\n",
       "    </tr>\n",
       "    <tr>\n",
       "      <th>27753442</th>\n",
       "      <td>283228</td>\n",
       "      <td>44761</td>\n",
       "      <td>4.5</td>\n",
       "    </tr>\n",
       "    <tr>\n",
       "      <th>27753443</th>\n",
       "      <td>283228</td>\n",
       "      <td>54286</td>\n",
       "      <td>4.5</td>\n",
       "    </tr>\n",
       "  </tbody>\n",
       "</table>\n",
       "<p>18385708 rows × 3 columns</p>\n",
       "</div>"
      ],
      "text/plain": [
       "          userId  movieId  rating\n",
       "0              1      307     3.5\n",
       "1              1      481     3.5\n",
       "2              1     1091     1.5\n",
       "3              1     1257     4.5\n",
       "4              1     1449     4.5\n",
       "...          ...      ...     ...\n",
       "27753439  283228     8542     4.5\n",
       "27753440  283228     8712     4.5\n",
       "27753441  283228    34405     4.5\n",
       "27753442  283228    44761     4.5\n",
       "27753443  283228    54286     4.5\n",
       "\n",
       "[18385708 rows x 3 columns]"
      ]
     },
     "execution_count": 266,
     "metadata": {},
     "output_type": "execute_result"
    }
   ],
   "source": [
    "# creating the filtered dataset\n",
    "filtered =  user_filter(5,500)\n",
    "filtered"
   ]
  },
  {
   "cell_type": "code",
   "execution_count": 267,
   "metadata": {},
   "outputs": [
    {
     "name": "stdout",
     "output_type": "stream",
     "text": [
      "<class 'pandas.core.frame.DataFrame'>\n",
      "Int64Index: 18385708 entries, 0 to 27753443\n",
      "Data columns (total 3 columns):\n",
      " #   Column   Dtype  \n",
      "---  ------   -----  \n",
      " 0   userId   int32  \n",
      " 1   movieId  int32  \n",
      " 2   rating   float32\n",
      "dtypes: float32(1), int32(2)\n",
      "memory usage: 350.7 MB\n"
     ]
    }
   ],
   "source": [
    "filtered.info()"
   ]
  },
  {
   "cell_type": "code",
   "execution_count": 268,
   "metadata": {},
   "outputs": [
    {
     "name": "stdout",
     "output_type": "stream",
     "text": [
      "Original length was 27753444 and the filtered length is now 18385708, that is a diffrence of 9367736\n"
     ]
    }
   ],
   "source": [
    "print(f\"Original length was {len(ratings)} and the filtered length is now {len(filtered)}, that is a diffrence of {len(ratings)-len(filtered)}\")"
   ]
  },
  {
   "attachments": {},
   "cell_type": "markdown",
   "metadata": {},
   "source": [
    "I will test to see if it possible to be able to use this much data in my matrix. If i cannot then I will have to reduce the size again by another parameter"
   ]
  },
  {
   "cell_type": "code",
   "execution_count": 269,
   "metadata": {},
   "outputs": [],
   "source": [
    "# importing pakages to be used with the model. KNN will be used and a sparse matrix \n",
    "from scipy.sparse import csr_matrix\n",
    "from sklearn.neighbors import NearestNeighbors\n",
    "from fuzzywuzzy import process"
   ]
  },
  {
   "cell_type": "code",
   "execution_count": 270,
   "metadata": {},
   "outputs": [
    {
     "data": {
      "text/html": [
       "<div>\n",
       "<style scoped>\n",
       "    .dataframe tbody tr th:only-of-type {\n",
       "        vertical-align: middle;\n",
       "    }\n",
       "\n",
       "    .dataframe tbody tr th {\n",
       "        vertical-align: top;\n",
       "    }\n",
       "\n",
       "    .dataframe thead th {\n",
       "        text-align: right;\n",
       "    }\n",
       "</style>\n",
       "<table border=\"1\" class=\"dataframe\">\n",
       "  <thead>\n",
       "    <tr style=\"text-align: right;\">\n",
       "      <th></th>\n",
       "      <th>userId</th>\n",
       "      <th>movieId</th>\n",
       "      <th>rating</th>\n",
       "    </tr>\n",
       "  </thead>\n",
       "  <tbody>\n",
       "    <tr>\n",
       "      <th>0</th>\n",
       "      <td>1</td>\n",
       "      <td>307</td>\n",
       "      <td>3.5</td>\n",
       "    </tr>\n",
       "    <tr>\n",
       "      <th>1</th>\n",
       "      <td>1</td>\n",
       "      <td>481</td>\n",
       "      <td>3.5</td>\n",
       "    </tr>\n",
       "    <tr>\n",
       "      <th>2</th>\n",
       "      <td>1</td>\n",
       "      <td>1091</td>\n",
       "      <td>1.5</td>\n",
       "    </tr>\n",
       "    <tr>\n",
       "      <th>3</th>\n",
       "      <td>1</td>\n",
       "      <td>1257</td>\n",
       "      <td>4.5</td>\n",
       "    </tr>\n",
       "    <tr>\n",
       "      <th>4</th>\n",
       "      <td>1</td>\n",
       "      <td>1449</td>\n",
       "      <td>4.5</td>\n",
       "    </tr>\n",
       "    <tr>\n",
       "      <th>...</th>\n",
       "      <td>...</td>\n",
       "      <td>...</td>\n",
       "      <td>...</td>\n",
       "    </tr>\n",
       "    <tr>\n",
       "      <th>27753439</th>\n",
       "      <td>283228</td>\n",
       "      <td>8542</td>\n",
       "      <td>4.5</td>\n",
       "    </tr>\n",
       "    <tr>\n",
       "      <th>27753440</th>\n",
       "      <td>283228</td>\n",
       "      <td>8712</td>\n",
       "      <td>4.5</td>\n",
       "    </tr>\n",
       "    <tr>\n",
       "      <th>27753441</th>\n",
       "      <td>283228</td>\n",
       "      <td>34405</td>\n",
       "      <td>4.5</td>\n",
       "    </tr>\n",
       "    <tr>\n",
       "      <th>27753442</th>\n",
       "      <td>283228</td>\n",
       "      <td>44761</td>\n",
       "      <td>4.5</td>\n",
       "    </tr>\n",
       "    <tr>\n",
       "      <th>27753443</th>\n",
       "      <td>283228</td>\n",
       "      <td>54286</td>\n",
       "      <td>4.5</td>\n",
       "    </tr>\n",
       "  </tbody>\n",
       "</table>\n",
       "<p>18385708 rows × 3 columns</p>\n",
       "</div>"
      ],
      "text/plain": [
       "          userId  movieId  rating\n",
       "0              1      307     3.5\n",
       "1              1      481     3.5\n",
       "2              1     1091     1.5\n",
       "3              1     1257     4.5\n",
       "4              1     1449     4.5\n",
       "...          ...      ...     ...\n",
       "27753439  283228     8542     4.5\n",
       "27753440  283228     8712     4.5\n",
       "27753441  283228    34405     4.5\n",
       "27753442  283228    44761     4.5\n",
       "27753443  283228    54286     4.5\n",
       "\n",
       "[18385708 rows x 3 columns]"
      ]
     },
     "execution_count": 270,
     "metadata": {},
     "output_type": "execute_result"
    }
   ],
   "source": [
    "filtered"
   ]
  },
  {
   "cell_type": "code",
   "execution_count": 271,
   "metadata": {},
   "outputs": [
    {
     "name": "stdout",
     "output_type": "stream",
     "text": [
      "Number of missing values:\n",
      " movieId    0\n",
      "userId     0\n",
      "dtype: int64\n"
     ]
    }
   ],
   "source": [
    "# checking to see if there is any missing values as the matrix will not work otherwise\n",
    "missing_values = filtered[['movieId', 'userId']].isnull().sum()\n",
    "print(\"Number of missing values:\\n\", missing_values)"
   ]
  },
  {
   "attachments": {},
   "cell_type": "markdown",
   "metadata": {},
   "source": [
    "I tried the code that was in the code along warm up. However it did not like the amount of data that i passed\n",
    "\n",
    "```\n",
    "movies_users = df_ratings.pivot(index=\"movieId\", columns=\"userId\", values=\"rating\").fillna(0)\n",
    "mat_movies_users = csr_matrix(movies_users.values)\n",
    "```\n",
    "\n",
    "However Kevin in class had discovered a better and quicker piece of code that would provide a gless matrix. So I used this instead and it worked well. see below"
   ]
  },
  {
   "cell_type": "code",
   "execution_count": 272,
   "metadata": {},
   "outputs": [],
   "source": [
    "# The categorical function is used to convert the columns into categorical variables and create a unique code for each value.\n",
    "\n",
    "movies = pd.Categorical(filtered['movieId'],categories = df_movies['movieId']) # This solves the logical mistake, Thanks you Andreas for the help. \n",
    "users = pd.Categorical(filtered['userId'])\n",
    "mat_movies_users = csr_matrix((filtered['rating'], (movies.codes, users.codes)))"
   ]
  },
  {
   "cell_type": "code",
   "execution_count": 273,
   "metadata": {},
   "outputs": [
    {
     "name": "stdout",
     "output_type": "stream",
     "text": [
      "  (0, 8)\t5.0\n",
      "  (0, 12)\t4.5\n",
      "  (0, 13)\t4.0\n",
      "  (0, 20)\t4.0\n",
      "  (0, 23)\t4.0\n",
      "  (0, 25)\t5.0\n",
      "  (0, 29)\t5.0\n",
      "  (0, 30)\t4.5\n",
      "  (0, 36)\t5.0\n",
      "  (0, 40)\t4.0\n",
      "  (0, 41)\t5.0\n",
      "  (0, 49)\t4.0\n",
      "  (0, 52)\t3.0\n",
      "  (0, 53)\t5.0\n",
      "  (0, 55)\t4.0\n",
      "  (0, 59)\t4.0\n",
      "  (0, 64)\t4.0\n",
      "  (0, 67)\t4.0\n",
      "  (0, 68)\t4.0\n",
      "  (0, 70)\t4.0\n",
      "  (0, 71)\t5.0\n",
      "  (0, 76)\t5.0\n",
      "  (0, 95)\t4.5\n",
      "  (0, 102)\t4.5\n",
      "  (0, 106)\t5.0\n",
      "  :\t:\n",
      "  (58043, 211728)\t3.5\n",
      "  (58043, 258778)\t4.0\n",
      "  (58047, 174985)\t0.5\n",
      "  (58055, 183000)\t2.5\n",
      "  (58055, 240016)\t1.5\n",
      "  (58056, 208128)\t4.0\n",
      "  (58056, 256415)\t5.0\n",
      "  (58057, 208128)\t4.0\n",
      "  (58057, 256415)\t5.0\n",
      "  (58058, 208128)\t1.5\n",
      "  (58058, 256415)\t5.0\n",
      "  (58064, 205217)\t3.0\n",
      "  (58067, 174985)\t0.5\n",
      "  (58077, 4076)\t4.0\n",
      "  (58079, 174985)\t0.5\n",
      "  (58079, 241719)\t3.0\n",
      "  (58082, 57008)\t3.5\n",
      "  (58084, 29436)\t3.0\n",
      "  (58085, 1621)\t3.0\n",
      "  (58089, 133481)\t4.5\n",
      "  (58090, 207603)\t3.0\n",
      "  (58091, 224088)\t4.0\n",
      "  (58092, 174985)\t5.0\n",
      "  (58097, 198505)\t2.5\n",
      "  (58097, 218491)\t4.0\n"
     ]
    }
   ],
   "source": [
    "# This is how the sparse matrix looks\n",
    "print(mat_movies_users)"
   ]
  },
  {
   "attachments": {},
   "cell_type": "markdown",
   "metadata": {},
   "source": [
    "## 2.1"
   ]
  },
  {
   "cell_type": "code",
   "execution_count": 274,
   "metadata": {},
   "outputs": [],
   "source": [
    "# I will now create the model that will be used. It is a KNN model, selecting the 20 nearest neighbors\n",
    "model_knn = NearestNeighbors(metric=\"cosine\", algorithm=\"brute\", n_neighbors=5)"
   ]
  },
  {
   "cell_type": "code",
   "execution_count": 275,
   "metadata": {},
   "outputs": [
    {
     "data": {
      "text/html": [
       "<style>#sk-container-id-6 {color: black;background-color: white;}#sk-container-id-6 pre{padding: 0;}#sk-container-id-6 div.sk-toggleable {background-color: white;}#sk-container-id-6 label.sk-toggleable__label {cursor: pointer;display: block;width: 100%;margin-bottom: 0;padding: 0.3em;box-sizing: border-box;text-align: center;}#sk-container-id-6 label.sk-toggleable__label-arrow:before {content: \"▸\";float: left;margin-right: 0.25em;color: #696969;}#sk-container-id-6 label.sk-toggleable__label-arrow:hover:before {color: black;}#sk-container-id-6 div.sk-estimator:hover label.sk-toggleable__label-arrow:before {color: black;}#sk-container-id-6 div.sk-toggleable__content {max-height: 0;max-width: 0;overflow: hidden;text-align: left;background-color: #f0f8ff;}#sk-container-id-6 div.sk-toggleable__content pre {margin: 0.2em;color: black;border-radius: 0.25em;background-color: #f0f8ff;}#sk-container-id-6 input.sk-toggleable__control:checked~div.sk-toggleable__content {max-height: 200px;max-width: 100%;overflow: auto;}#sk-container-id-6 input.sk-toggleable__control:checked~label.sk-toggleable__label-arrow:before {content: \"▾\";}#sk-container-id-6 div.sk-estimator input.sk-toggleable__control:checked~label.sk-toggleable__label {background-color: #d4ebff;}#sk-container-id-6 div.sk-label input.sk-toggleable__control:checked~label.sk-toggleable__label {background-color: #d4ebff;}#sk-container-id-6 input.sk-hidden--visually {border: 0;clip: rect(1px 1px 1px 1px);clip: rect(1px, 1px, 1px, 1px);height: 1px;margin: -1px;overflow: hidden;padding: 0;position: absolute;width: 1px;}#sk-container-id-6 div.sk-estimator {font-family: monospace;background-color: #f0f8ff;border: 1px dotted black;border-radius: 0.25em;box-sizing: border-box;margin-bottom: 0.5em;}#sk-container-id-6 div.sk-estimator:hover {background-color: #d4ebff;}#sk-container-id-6 div.sk-parallel-item::after {content: \"\";width: 100%;border-bottom: 1px solid gray;flex-grow: 1;}#sk-container-id-6 div.sk-label:hover label.sk-toggleable__label {background-color: #d4ebff;}#sk-container-id-6 div.sk-serial::before {content: \"\";position: absolute;border-left: 1px solid gray;box-sizing: border-box;top: 0;bottom: 0;left: 50%;z-index: 0;}#sk-container-id-6 div.sk-serial {display: flex;flex-direction: column;align-items: center;background-color: white;padding-right: 0.2em;padding-left: 0.2em;position: relative;}#sk-container-id-6 div.sk-item {position: relative;z-index: 1;}#sk-container-id-6 div.sk-parallel {display: flex;align-items: stretch;justify-content: center;background-color: white;position: relative;}#sk-container-id-6 div.sk-item::before, #sk-container-id-6 div.sk-parallel-item::before {content: \"\";position: absolute;border-left: 1px solid gray;box-sizing: border-box;top: 0;bottom: 0;left: 50%;z-index: -1;}#sk-container-id-6 div.sk-parallel-item {display: flex;flex-direction: column;z-index: 1;position: relative;background-color: white;}#sk-container-id-6 div.sk-parallel-item:first-child::after {align-self: flex-end;width: 50%;}#sk-container-id-6 div.sk-parallel-item:last-child::after {align-self: flex-start;width: 50%;}#sk-container-id-6 div.sk-parallel-item:only-child::after {width: 0;}#sk-container-id-6 div.sk-dashed-wrapped {border: 1px dashed gray;margin: 0 0.4em 0.5em 0.4em;box-sizing: border-box;padding-bottom: 0.4em;background-color: white;}#sk-container-id-6 div.sk-label label {font-family: monospace;font-weight: bold;display: inline-block;line-height: 1.2em;}#sk-container-id-6 div.sk-label-container {text-align: center;}#sk-container-id-6 div.sk-container {/* jupyter's `normalize.less` sets `[hidden] { display: none; }` but bootstrap.min.css set `[hidden] { display: none !important; }` so we also need the `!important` here to be able to override the default hidden behavior on the sphinx rendered scikit-learn.org. See: https://github.com/scikit-learn/scikit-learn/issues/21755 */display: inline-block !important;position: relative;}#sk-container-id-6 div.sk-text-repr-fallback {display: none;}</style><div id=\"sk-container-id-6\" class=\"sk-top-container\"><div class=\"sk-text-repr-fallback\"><pre>NearestNeighbors(algorithm=&#x27;brute&#x27;, metric=&#x27;cosine&#x27;)</pre><b>In a Jupyter environment, please rerun this cell to show the HTML representation or trust the notebook. <br />On GitHub, the HTML representation is unable to render, please try loading this page with nbviewer.org.</b></div><div class=\"sk-container\" hidden><div class=\"sk-item\"><div class=\"sk-estimator sk-toggleable\"><input class=\"sk-toggleable__control sk-hidden--visually\" id=\"sk-estimator-id-6\" type=\"checkbox\" checked><label for=\"sk-estimator-id-6\" class=\"sk-toggleable__label sk-toggleable__label-arrow\">NearestNeighbors</label><div class=\"sk-toggleable__content\"><pre>NearestNeighbors(algorithm=&#x27;brute&#x27;, metric=&#x27;cosine&#x27;)</pre></div></div></div></div></div>"
      ],
      "text/plain": [
       "NearestNeighbors(algorithm='brute', metric='cosine')"
      ]
     },
     "execution_count": 275,
     "metadata": {},
     "output_type": "execute_result"
    }
   ],
   "source": [
    "# Fitting the model to the dataframe\n",
    "model_knn.fit(mat_movies_users)"
   ]
  },
  {
   "cell_type": "code",
   "execution_count": 276,
   "metadata": {},
   "outputs": [
    {
     "data": {
      "text/html": [
       "<div>\n",
       "<style scoped>\n",
       "    .dataframe tbody tr th:only-of-type {\n",
       "        vertical-align: middle;\n",
       "    }\n",
       "\n",
       "    .dataframe tbody tr th {\n",
       "        vertical-align: top;\n",
       "    }\n",
       "\n",
       "    .dataframe thead th {\n",
       "        text-align: right;\n",
       "    }\n",
       "</style>\n",
       "<table border=\"1\" class=\"dataframe\">\n",
       "  <thead>\n",
       "    <tr style=\"text-align: right;\">\n",
       "      <th></th>\n",
       "      <th>userId</th>\n",
       "      <th>movieId</th>\n",
       "      <th>rating</th>\n",
       "    </tr>\n",
       "  </thead>\n",
       "  <tbody>\n",
       "    <tr>\n",
       "      <th>0</th>\n",
       "      <td>1</td>\n",
       "      <td>307</td>\n",
       "      <td>3.5</td>\n",
       "    </tr>\n",
       "    <tr>\n",
       "      <th>1</th>\n",
       "      <td>1</td>\n",
       "      <td>481</td>\n",
       "      <td>3.5</td>\n",
       "    </tr>\n",
       "    <tr>\n",
       "      <th>2</th>\n",
       "      <td>1</td>\n",
       "      <td>1091</td>\n",
       "      <td>1.5</td>\n",
       "    </tr>\n",
       "    <tr>\n",
       "      <th>3</th>\n",
       "      <td>1</td>\n",
       "      <td>1257</td>\n",
       "      <td>4.5</td>\n",
       "    </tr>\n",
       "    <tr>\n",
       "      <th>4</th>\n",
       "      <td>1</td>\n",
       "      <td>1449</td>\n",
       "      <td>4.5</td>\n",
       "    </tr>\n",
       "    <tr>\n",
       "      <th>...</th>\n",
       "      <td>...</td>\n",
       "      <td>...</td>\n",
       "      <td>...</td>\n",
       "    </tr>\n",
       "    <tr>\n",
       "      <th>27753439</th>\n",
       "      <td>283228</td>\n",
       "      <td>8542</td>\n",
       "      <td>4.5</td>\n",
       "    </tr>\n",
       "    <tr>\n",
       "      <th>27753440</th>\n",
       "      <td>283228</td>\n",
       "      <td>8712</td>\n",
       "      <td>4.5</td>\n",
       "    </tr>\n",
       "    <tr>\n",
       "      <th>27753441</th>\n",
       "      <td>283228</td>\n",
       "      <td>34405</td>\n",
       "      <td>4.5</td>\n",
       "    </tr>\n",
       "    <tr>\n",
       "      <th>27753442</th>\n",
       "      <td>283228</td>\n",
       "      <td>44761</td>\n",
       "      <td>4.5</td>\n",
       "    </tr>\n",
       "    <tr>\n",
       "      <th>27753443</th>\n",
       "      <td>283228</td>\n",
       "      <td>54286</td>\n",
       "      <td>4.5</td>\n",
       "    </tr>\n",
       "  </tbody>\n",
       "</table>\n",
       "<p>18385708 rows × 3 columns</p>\n",
       "</div>"
      ],
      "text/plain": [
       "          userId  movieId  rating\n",
       "0              1      307     3.5\n",
       "1              1      481     3.5\n",
       "2              1     1091     1.5\n",
       "3              1     1257     4.5\n",
       "4              1     1449     4.5\n",
       "...          ...      ...     ...\n",
       "27753439  283228     8542     4.5\n",
       "27753440  283228     8712     4.5\n",
       "27753441  283228    34405     4.5\n",
       "27753442  283228    44761     4.5\n",
       "27753443  283228    54286     4.5\n",
       "\n",
       "[18385708 rows x 3 columns]"
      ]
     },
     "execution_count": 276,
     "metadata": {},
     "output_type": "execute_result"
    }
   ],
   "source": [
    "filtered"
   ]
  },
  {
   "cell_type": "code",
   "execution_count": 277,
   "metadata": {},
   "outputs": [
    {
     "name": "stdout",
     "output_type": "stream",
     "text": [
      "Movie Selected: Toy Story  Index:  0\n",
      "Searching for recommendations.....\n",
      "0                                       NaN\n",
      "767                       Independence Day \n",
      "257     Star Wars: Episode IV - A New Hope \n",
      "352                           Forrest Gump \n",
      "1242                    Back to the Future \n",
      "Name: title, dtype: object\n"
     ]
    }
   ],
   "source": [
    "# This is the code from the code along that is uses to create a movie recommendation \n",
    "def recommender(movie_name, data, model, n_recommendations) :\n",
    "    idx = process.extractOne(movie_name, df_movies[\"title\"])[2] \n",
    "    print(\"Movie Selected:\" ,df_movies[\"title\"][idx], \"Index: \",idx ) \n",
    "    print(\"Searching for recommendations.....\")\n",
    "    distances, indices=model.kneighbors(data[idx], n_neighbors=n_recommendations)\n",
    "\n",
    "    for i in indices:\n",
    "        print(df_movies[\"title\"][i].where(i!=idx))\n",
    "\n",
    "recommender(\"Toy story\", mat_movies_users, model_knn,5)"
   ]
  },
  {
   "cell_type": "code",
   "execution_count": 281,
   "metadata": {},
   "outputs": [
    {
     "name": "stdout",
     "output_type": "stream",
     "text": [
      "Movie Selected: Amityville -D  Index:  1294\n",
      "Searching for recommendations.....\n",
      "1294                               NaN\n",
      "1297    Amityville II: The Possession \n",
      "1296     Amityville: A New Generation \n",
      "1295            Amityville: Dollhouse \n",
      "1293     Amityville : It's About Time \n",
      "Name: title, dtype: object\n"
     ]
    }
   ],
   "source": [
    "recommender(\"Amityville\", mat_movies_users, model_knn,5)"
   ]
  },
  {
   "cell_type": "code",
   "execution_count": 282,
   "metadata": {},
   "outputs": [
    {
     "name": "stdout",
     "output_type": "stream",
     "text": [
      "Movie Selected: Superman  Index:  2556\n",
      "Searching for recommendations.....\n",
      "2556                                 NaN\n",
      "1343    Star Trek II: The Wrath of Khan \n",
      "2557                        Superman II \n",
      "2831                       Total Recall \n",
      "2900                            RoboCop \n",
      "Name: title, dtype: object\n"
     ]
    }
   ],
   "source": [
    "recommender(\"Superman\", mat_movies_users, model_knn,5)"
   ]
  },
  {
   "cell_type": "code",
   "execution_count": 284,
   "metadata": {},
   "outputs": [
    {
     "name": "stdout",
     "output_type": "stream",
     "text": [
      "Movie Selected: Iron Man  Index:  12666\n",
      "Searching for recommendations.....\n",
      "12666                  NaN\n",
      "12559    Dark Knight, The \n",
      "17997       Avengers, The \n",
      "10186       Batman Begins \n",
      "13729           Star Trek \n",
      "Name: title, dtype: object\n"
     ]
    }
   ],
   "source": [
    "recommender(\"Iron man 3\", mat_movies_users, model_knn,5)"
   ]
  },
  {
   "cell_type": "code",
   "execution_count": 279,
   "metadata": {},
   "outputs": [
    {
     "name": "stdout",
     "output_type": "stream",
     "text": [
      "Movie Selected: Lord of the Rings, The  Index:  2033\n",
      "Searching for recommendations.....\n",
      "2033                   NaN\n",
      "1938                 Dune \n",
      "2022                 Tron \n",
      "2057    Dark Crystal, The \n",
      "2883         Time Bandits \n",
      "Name: title, dtype: object\n"
     ]
    }
   ],
   "source": [
    "recommender(\"Lord of the rings\", mat_movies_users, model_knn,5)"
   ]
  },
  {
   "attachments": {},
   "cell_type": "markdown",
   "metadata": {},
   "source": [
    "### a) \n",
    "\n",
    "The Function for the recomendation system works as follows: \n",
    "- Process.extractOne is a function from the fuzzywuzzy library. This is uses to find the closest match to the name that is searched within the column title.\n",
    "- The index of that title is then extracted then assigned to the idx variable\n",
    "- This index is then entered into the model which will then find the closest 5 neighbors, using KNN\n",
    "- KNN uses a distance metric where it finds the distance from one point and then measures from that to all the other points in the data. It then chooses the closes point to the original point. \n",
    "- Then a loop is used to print the 5 closest matches from  the KNN algorithm. The where function excludes the original title name.   "
   ]
  },
  {
   "attachments": {},
   "cell_type": "markdown",
   "metadata": {},
   "source": [
    "#### b) \n",
    "\n",
    "There are many different types of recommender systems, but in general they fall within these 3 catagories:\n",
    "- Collaborative filtering: This recommends to a user based on the preference of similar users. It looks at past behavior of the user and the similar users and recommends based on that.\n",
    "- Content based filtering: This recommends based on the item they have previously liked. For example it may look at features such as genre, author or artist. Then it would recommend based on those features.\n",
    "- Hybrid: These systems combine the two types above to create a more comprehensive system.\n",
    "- Context filtering: Uses contextual user actions, plus the current context to predict the probability of the next action. \n",
    "\n",
    "With all this in mind many systems use a technique called Matrix factorization. This is when you break down a large matrix into smaller matrixes. The large matrix can represent user item interactions for example. The columns would be represent an item and then the rows would represent the user. Each cell would have a rating of the movie. \n",
    "This would be broken down into smaller matrixes for example one that represents users and their preference, the other movies and their characteristics. It then finds the best values in the smaller matrixes instead, while trying to recreate the bigger matrix as much as possible. This can be done using the least squared method.  \n",
    "\n",
    "\n",
    "https://www.nvidia.com/en-us/glossary/data-science/recommendation-system/#:~:text=A%20recommendation%20system%20is%20an,demographic%20information%2C%20and%20other%20factors.\n",
    "\n",
    "https://www.mygreatlearning.com/blog/matrix-factorization-explained/"
   ]
  },
  {
   "attachments": {},
   "cell_type": "markdown",
   "metadata": {},
   "source": [
    "There was a logical error that was to be solved within the code. Unfortunaly I could not solve it. However i think it has something to with this line: \n",
    "``` idx = process.extractOne(movie_name, df_movies[\"title\"])[2] ```\n",
    " "
   ]
  }
 ],
 "metadata": {
  "kernelspec": {
   "display_name": "Machine-learning-NSZCLOcg",
   "language": "python",
   "name": "python3"
  },
  "language_info": {
   "codemirror_mode": {
    "name": "ipython",
    "version": 3
   },
   "file_extension": ".py",
   "mimetype": "text/x-python",
   "name": "python",
   "nbconvert_exporter": "python",
   "pygments_lexer": "ipython3",
   "version": "3.9.13"
  },
  "orig_nbformat": 4
 },
 "nbformat": 4,
 "nbformat_minor": 2
}
