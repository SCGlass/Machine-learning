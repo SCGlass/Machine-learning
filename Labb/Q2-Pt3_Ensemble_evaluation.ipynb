{
 "cells": [
  {
   "cell_type": "code",
   "execution_count": 4,
   "metadata": {},
   "outputs": [],
   "source": [
    "# importing all relative packages\n",
    "import pandas as pd\n",
    "import numpy as np\n",
    "from sklearn.preprocessing import MinMaxScaler, StandardScaler\n",
    "from sklearn.model_selection import train_test_split\n",
    "\n",
    "disease_data = \"..\\data\\Heart_disease.csv\"\n",
    "df_disease = pd.read_csv(disease_data)\n",
    "\n",
    "# My chosen dataframe was dataframe 2 \n",
    "df_two = df_disease.drop(columns=[\"BMI_cat\", \"bp_category\", \"height\", \"weight\"])\n",
    "df_two = pd.get_dummies(df_two, columns=[\"gender\"])\n",
    "df_two.rename(columns= {\"gender_1\" : \"female\", \"gender_2\" : \"male\"}, inplace=True)\n",
    "\n",
    "X,y = df_two.drop(\"cardio\", axis = \"columns\"), df_two[\"cardio\"]\n",
    "X_train, X_test, y_train, y_test = train_test_split(X, y, test_size=0.33, random_state=42) \n",
    "\n",
    "standard_scaler = StandardScaler()\n",
    "X_train_scaled= standard_scaler.fit_transform(X_train)\n",
    "X_test_scaled= standard_scaler.transform(X_test)"
   ]
  },
  {
   "cell_type": "code",
   "execution_count": 5,
   "metadata": {},
   "outputs": [
    {
     "data": {
      "text/html": [
       "<div>\n",
       "<style scoped>\n",
       "    .dataframe tbody tr th:only-of-type {\n",
       "        vertical-align: middle;\n",
       "    }\n",
       "\n",
       "    .dataframe tbody tr th {\n",
       "        vertical-align: top;\n",
       "    }\n",
       "\n",
       "    .dataframe thead th {\n",
       "        text-align: right;\n",
       "    }\n",
       "</style>\n",
       "<table border=\"1\" class=\"dataframe\">\n",
       "  <thead>\n",
       "    <tr style=\"text-align: right;\">\n",
       "      <th></th>\n",
       "      <th>id</th>\n",
       "      <th>age</th>\n",
       "      <th>ap_hi</th>\n",
       "      <th>ap_lo</th>\n",
       "      <th>cholesterol</th>\n",
       "      <th>gluc</th>\n",
       "      <th>smoke</th>\n",
       "      <th>alco</th>\n",
       "      <th>active</th>\n",
       "      <th>cardio</th>\n",
       "      <th>BMI</th>\n",
       "      <th>female</th>\n",
       "      <th>male</th>\n",
       "    </tr>\n",
       "  </thead>\n",
       "  <tbody>\n",
       "    <tr>\n",
       "      <th>0</th>\n",
       "      <td>1</td>\n",
       "      <td>55.38</td>\n",
       "      <td>140</td>\n",
       "      <td>90</td>\n",
       "      <td>3</td>\n",
       "      <td>1</td>\n",
       "      <td>0</td>\n",
       "      <td>0</td>\n",
       "      <td>1</td>\n",
       "      <td>1</td>\n",
       "      <td>34.93</td>\n",
       "      <td>1</td>\n",
       "      <td>0</td>\n",
       "    </tr>\n",
       "    <tr>\n",
       "      <th>1</th>\n",
       "      <td>3</td>\n",
       "      <td>48.25</td>\n",
       "      <td>150</td>\n",
       "      <td>100</td>\n",
       "      <td>1</td>\n",
       "      <td>1</td>\n",
       "      <td>0</td>\n",
       "      <td>0</td>\n",
       "      <td>1</td>\n",
       "      <td>1</td>\n",
       "      <td>28.71</td>\n",
       "      <td>0</td>\n",
       "      <td>1</td>\n",
       "    </tr>\n",
       "    <tr>\n",
       "      <th>2</th>\n",
       "      <td>12</td>\n",
       "      <td>61.83</td>\n",
       "      <td>130</td>\n",
       "      <td>90</td>\n",
       "      <td>3</td>\n",
       "      <td>3</td>\n",
       "      <td>0</td>\n",
       "      <td>0</td>\n",
       "      <td>1</td>\n",
       "      <td>1</td>\n",
       "      <td>29.98</td>\n",
       "      <td>0</td>\n",
       "      <td>1</td>\n",
       "    </tr>\n",
       "    <tr>\n",
       "      <th>3</th>\n",
       "      <td>32</td>\n",
       "      <td>63.10</td>\n",
       "      <td>145</td>\n",
       "      <td>85</td>\n",
       "      <td>2</td>\n",
       "      <td>2</td>\n",
       "      <td>0</td>\n",
       "      <td>0</td>\n",
       "      <td>1</td>\n",
       "      <td>1</td>\n",
       "      <td>36.05</td>\n",
       "      <td>1</td>\n",
       "      <td>0</td>\n",
       "    </tr>\n",
       "    <tr>\n",
       "      <th>4</th>\n",
       "      <td>46</td>\n",
       "      <td>60.07</td>\n",
       "      <td>140</td>\n",
       "      <td>90</td>\n",
       "      <td>3</td>\n",
       "      <td>1</td>\n",
       "      <td>0</td>\n",
       "      <td>0</td>\n",
       "      <td>0</td>\n",
       "      <td>1</td>\n",
       "      <td>27.40</td>\n",
       "      <td>0</td>\n",
       "      <td>1</td>\n",
       "    </tr>\n",
       "  </tbody>\n",
       "</table>\n",
       "</div>"
      ],
      "text/plain": [
       "   id    age  ap_hi  ap_lo  cholesterol  gluc  smoke  alco  active  cardio  \\\n",
       "0   1  55.38    140     90            3     1      0     0       1       1   \n",
       "1   3  48.25    150    100            1     1      0     0       1       1   \n",
       "2  12  61.83    130     90            3     3      0     0       1       1   \n",
       "3  32  63.10    145     85            2     2      0     0       1       1   \n",
       "4  46  60.07    140     90            3     1      0     0       0       1   \n",
       "\n",
       "     BMI  female  male  \n",
       "0  34.93       1     0  \n",
       "1  28.71       0     1  \n",
       "2  29.98       0     1  \n",
       "3  36.05       1     0  \n",
       "4  27.40       0     1  "
      ]
     },
     "execution_count": 5,
     "metadata": {},
     "output_type": "execute_result"
    }
   ],
   "source": [
    "df_two.head()"
   ]
  },
  {
   "attachments": {},
   "cell_type": "markdown",
   "metadata": {},
   "source": [
    "# Training my chosen dataset and model"
   ]
  },
  {
   "attachments": {},
   "cell_type": "markdown",
   "metadata": {},
   "source": [
    "My chosen model was a random forest model. These were the scores that it had using the Grid search CV. I have also the best parameters that were evaluated. This was using the standard scaler.\n",
    "\n",
    "- best score 0.73\n",
    "- best params{'criterion': 'entropy', 'max_features': 'log2', 'n_estimators': 150}\n",
    "- best estimator 0.73"
   ]
  },
  {
   "cell_type": "code",
   "execution_count": 6,
   "metadata": {},
   "outputs": [
    {
     "name": "stdout",
     "output_type": "stream",
     "text": [
      "Model Accuracy after testing on test data  0.7337314346960649\n"
     ]
    }
   ],
   "source": [
    "# importing randomforest classifier and accuracy score\n",
    "from sklearn.ensemble import RandomForestClassifier\n",
    "from sklearn.metrics import accuracy_score\n",
    "\n",
    "# creating model with my best hyper parameters\n",
    "model = RandomForestClassifier(criterion= \"entropy\", max_features=\"log2\", n_estimators=150)\n",
    "# Fitting my model to the training data\n",
    "model.fit(X_train_scaled, y_train)\n",
    "\n",
    "# predictions from X test\n",
    "y_pred = model.predict(X_test_scaled)\n",
    "\n",
    "accuracy = accuracy_score(y_test, y_pred)\n",
    "print(f\"Model Accuracy after testing on test data  {accuracy}\")\n"
   ]
  },
  {
   "attachments": {},
   "cell_type": "markdown",
   "metadata": {},
   "source": [
    "# Confusion matrix on my chosen model"
   ]
  },
  {
   "cell_type": "code",
   "execution_count": 7,
   "metadata": {},
   "outputs": [
    {
     "name": "stdout",
     "output_type": "stream",
     "text": [
      "              precision    recall  f1-score   support\n",
      "\n",
      "           0       0.72      0.73      0.72      3102\n",
      "           1       0.75      0.74      0.75      3429\n",
      "\n",
      "    accuracy                           0.73      6531\n",
      "   macro avg       0.73      0.73      0.73      6531\n",
      "weighted avg       0.73      0.73      0.73      6531\n",
      "\n"
     ]
    },
    {
     "data": {
      "text/plain": [
       "<sklearn.metrics._plot.confusion_matrix.ConfusionMatrixDisplay at 0x172b22a3ee0>"
      ]
     },
     "execution_count": 7,
     "metadata": {},
     "output_type": "execute_result"
    },
    {
     "data": {
      "image/png": "[encoded data removed]",
      "text/plain": [
       "<Figure size 640x480 with 2 Axes>"
      ]
     },
     "metadata": {},
     "output_type": "display_data"
    }
   ],
   "source": [
    "# importing confusion matrix so I can access my model\n",
    "from sklearn.metrics import classification_report, ConfusionMatrixDisplay, confusion_matrix\n",
    "\n",
    "print(classification_report(y_test, y_pred))\n",
    "\n",
    "# using y test and y pred to evaluate\n",
    "cm = confusion_matrix(y_test, y_pred)\n",
    "ConfusionMatrixDisplay(cm).plot()"
   ]
  },
  {
   "attachments": {},
   "cell_type": "markdown",
   "metadata": {},
   "source": [
    "As we can see from the classification report both 0(NO) and 1(Yes) have had similar precision and recall results. The F1 score which is a weighted average of both precision and recall has given 0.72 for 0 and 0.75 for 1. We can say that this is a fairly accurate model from these result, but does need improvement. I will try an Ensemble of the different models which I trained, with the best hyper parameters to see if it will improve the results."
   ]
  },
  {
   "attachments": {},
   "cell_type": "markdown",
   "metadata": {},
   "source": [
    "## 2.5 Ensemble"
   ]
  },
  {
   "cell_type": "code",
   "execution_count": 8,
   "metadata": {},
   "outputs": [
    {
     "name": "stdout",
     "output_type": "stream",
     "text": [
      "Voting classifier accuracy:0.7325065074261216\n",
      "              precision    recall  f1-score   support\n",
      "\n",
      "           0       0.71      0.75      0.73      3102\n",
      "           1       0.76      0.72      0.74      3429\n",
      "\n",
      "    accuracy                           0.73      6531\n",
      "   macro avg       0.73      0.73      0.73      6531\n",
      "weighted avg       0.73      0.73      0.73      6531\n",
      "\n"
     ]
    },
    {
     "data": {
      "text/plain": [
       "<sklearn.metrics._plot.confusion_matrix.ConfusionMatrixDisplay at 0x172c8267400>"
      ]
     },
     "execution_count": 8,
     "metadata": {},
     "output_type": "execute_result"
    },
    {
     "data": {
      "image/png": "[encoded data removed]",
      "text/plain": [
       "<Figure size 640x480 with 2 Axes>"
      ]
     },
     "metadata": {},
     "output_type": "display_data"
    }
   ],
   "source": [
    "# importing voting classifier for combining the different models\n",
    "from sklearn.ensemble import VotingClassifier\n",
    "# Importing Random forest, Logistic Regression and Naive bayes Bernoulli\n",
    "from sklearn.ensemble import RandomForestClassifier\n",
    "from sklearn.linear_model import LogisticRegression\n",
    "from sklearn.naive_bayes import BernoulliNB\n",
    "# classification report anf confusion matrix to visualize the results\n",
    "from sklearn.metrics import classification_report, ConfusionMatrixDisplay, confusion_matrix\n",
    "\n",
    "# The 3 models with the best hyper parameters\n",
    "model_1 = RandomForestClassifier(criterion= \"entropy\", max_features=\"log2\", n_estimators=150)\n",
    "model_2 = LogisticRegression(C= 0.026366508987303583, penalty=\"l1\",solver=\"saga\")\n",
    "model_3 = BernoulliNB(alpha=10, binarize=0.0, fit_prior=True)\n",
    "\n",
    "# initializing the voting classifier with the 3 models\n",
    "voting_clf = VotingClassifier(estimators=[(\"rf\", model_1),(\"lr\", model_2), (\"bn\", model_3)], voting=\"soft\")\n",
    "\n",
    "# Scaling the model to the x train and y train \n",
    "voting_clf.fit(X_train_scaled,y_train)\n",
    "\n",
    "# predicting the cardio result using X test now\n",
    "y_pred = voting_clf.predict(X_test_scaled)\n",
    "\n",
    "print(f\"Voting classifier accuracy:{voting_clf.score(X_test_scaled, y_test)}\")\n",
    "\n",
    "print(classification_report(y_test, y_pred))\n",
    "cm = confusion_matrix(y_test, y_pred)\n",
    "ConfusionMatrixDisplay(cm).plot()"
   ]
  },
  {
   "attachments": {},
   "cell_type": "markdown",
   "metadata": {},
   "source": [
    "When looking at the results of the ensemble model, we can see that there is not a lot of difference between the two. \n",
    "However the second model has slightly higher precision in class 1 and a slightly higher recall in class 0. This means that that model may have a better chance at detecting in the cases where people do have a cardiovascular disease. I think this sways me to using the second model as we want to know in the instances that people have a cardio disease so they are not missed if they require treatment. "
   ]
  },
  {
   "attachments": {},
   "cell_type": "markdown",
   "metadata": {},
   "source": [
    "## 2.7 \"Deploy\"- save model"
   ]
  },
  {
   "attachments": {},
   "cell_type": "markdown",
   "metadata": {},
   "source": [
    "### Taking 100 random test samples from the dataframe"
   ]
  },
  {
   "cell_type": "code",
   "execution_count": 9,
   "metadata": {},
   "outputs": [],
   "source": [
    "# This selects which rows are to be moved from the data frame\n",
    "remove_rows = df_two.sample(n=100, random_state=42).index\n",
    "# This removes the 100 rows and creates another data frame with them\n",
    "df_test_samples = df_two.loc[remove_rows]\n",
    "# This drops the chosen 100 rows from the original data frame\n",
    "df_train = df_two.drop(remove_rows)"
   ]
  },
  {
   "cell_type": "code",
   "execution_count": 17,
   "metadata": {},
   "outputs": [
    {
     "name": "stdout",
     "output_type": "stream",
     "text": [
      "<class 'pandas.core.frame.DataFrame'>\n",
      "Int64Index: 100 entries, 8850 to 16745\n",
      "Data columns (total 13 columns):\n",
      " #   Column       Non-Null Count  Dtype  \n",
      "---  ------       --------------  -----  \n",
      " 0   id           100 non-null    int64  \n",
      " 1   age          100 non-null    float64\n",
      " 2   ap_hi        100 non-null    int64  \n",
      " 3   ap_lo        100 non-null    int64  \n",
      " 4   cholesterol  100 non-null    int64  \n",
      " 5   gluc         100 non-null    int64  \n",
      " 6   smoke        100 non-null    int64  \n",
      " 7   alco         100 non-null    int64  \n",
      " 8   active       100 non-null    int64  \n",
      " 9   cardio       100 non-null    int64  \n",
      " 10  BMI          100 non-null    float64\n",
      " 11  female       100 non-null    uint8  \n",
      " 12  male         100 non-null    uint8  \n",
      "dtypes: float64(2), int64(9), uint8(2)\n",
      "memory usage: 9.6 KB\n"
     ]
    }
   ],
   "source": [
    "df_test_samples.info()"
   ]
  },
  {
   "cell_type": "code",
   "execution_count": 18,
   "metadata": {},
   "outputs": [
    {
     "data": {
      "text/html": [
       "<div>\n",
       "<style scoped>\n",
       "    .dataframe tbody tr th:only-of-type {\n",
       "        vertical-align: middle;\n",
       "    }\n",
       "\n",
       "    .dataframe tbody tr th {\n",
       "        vertical-align: top;\n",
       "    }\n",
       "\n",
       "    .dataframe thead th {\n",
       "        text-align: right;\n",
       "    }\n",
       "</style>\n",
       "<table border=\"1\" class=\"dataframe\">\n",
       "  <thead>\n",
       "    <tr style=\"text-align: right;\">\n",
       "      <th></th>\n",
       "      <th>id</th>\n",
       "      <th>age</th>\n",
       "      <th>ap_hi</th>\n",
       "      <th>ap_lo</th>\n",
       "      <th>cholesterol</th>\n",
       "      <th>gluc</th>\n",
       "      <th>smoke</th>\n",
       "      <th>alco</th>\n",
       "      <th>active</th>\n",
       "      <th>cardio</th>\n",
       "      <th>BMI</th>\n",
       "      <th>female</th>\n",
       "      <th>male</th>\n",
       "    </tr>\n",
       "  </thead>\n",
       "  <tbody>\n",
       "    <tr>\n",
       "      <th>0</th>\n",
       "      <td>1</td>\n",
       "      <td>55.38</td>\n",
       "      <td>140</td>\n",
       "      <td>90</td>\n",
       "      <td>3</td>\n",
       "      <td>1</td>\n",
       "      <td>0</td>\n",
       "      <td>0</td>\n",
       "      <td>1</td>\n",
       "      <td>1</td>\n",
       "      <td>34.93</td>\n",
       "      <td>1</td>\n",
       "      <td>0</td>\n",
       "    </tr>\n",
       "    <tr>\n",
       "      <th>1</th>\n",
       "      <td>3</td>\n",
       "      <td>48.25</td>\n",
       "      <td>150</td>\n",
       "      <td>100</td>\n",
       "      <td>1</td>\n",
       "      <td>1</td>\n",
       "      <td>0</td>\n",
       "      <td>0</td>\n",
       "      <td>1</td>\n",
       "      <td>1</td>\n",
       "      <td>28.71</td>\n",
       "      <td>0</td>\n",
       "      <td>1</td>\n",
       "    </tr>\n",
       "    <tr>\n",
       "      <th>2</th>\n",
       "      <td>12</td>\n",
       "      <td>61.83</td>\n",
       "      <td>130</td>\n",
       "      <td>90</td>\n",
       "      <td>3</td>\n",
       "      <td>3</td>\n",
       "      <td>0</td>\n",
       "      <td>0</td>\n",
       "      <td>1</td>\n",
       "      <td>1</td>\n",
       "      <td>29.98</td>\n",
       "      <td>0</td>\n",
       "      <td>1</td>\n",
       "    </tr>\n",
       "    <tr>\n",
       "      <th>3</th>\n",
       "      <td>32</td>\n",
       "      <td>63.10</td>\n",
       "      <td>145</td>\n",
       "      <td>85</td>\n",
       "      <td>2</td>\n",
       "      <td>2</td>\n",
       "      <td>0</td>\n",
       "      <td>0</td>\n",
       "      <td>1</td>\n",
       "      <td>1</td>\n",
       "      <td>36.05</td>\n",
       "      <td>1</td>\n",
       "      <td>0</td>\n",
       "    </tr>\n",
       "    <tr>\n",
       "      <th>4</th>\n",
       "      <td>46</td>\n",
       "      <td>60.07</td>\n",
       "      <td>140</td>\n",
       "      <td>90</td>\n",
       "      <td>3</td>\n",
       "      <td>1</td>\n",
       "      <td>0</td>\n",
       "      <td>0</td>\n",
       "      <td>0</td>\n",
       "      <td>1</td>\n",
       "      <td>27.40</td>\n",
       "      <td>0</td>\n",
       "      <td>1</td>\n",
       "    </tr>\n",
       "  </tbody>\n",
       "</table>\n",
       "</div>"
      ],
      "text/plain": [
       "   id    age  ap_hi  ap_lo  cholesterol  gluc  smoke  alco  active  cardio  \\\n",
       "0   1  55.38    140     90            3     1      0     0       1       1   \n",
       "1   3  48.25    150    100            1     1      0     0       1       1   \n",
       "2  12  61.83    130     90            3     3      0     0       1       1   \n",
       "3  32  63.10    145     85            2     2      0     0       1       1   \n",
       "4  46  60.07    140     90            3     1      0     0       0       1   \n",
       "\n",
       "     BMI  female  male  \n",
       "0  34.93       1     0  \n",
       "1  28.71       0     1  \n",
       "2  29.98       0     1  \n",
       "3  36.05       1     0  \n",
       "4  27.40       0     1  "
      ]
     },
     "execution_count": 18,
     "metadata": {},
     "output_type": "execute_result"
    }
   ],
   "source": [
    "df_train.head()"
   ]
  },
  {
   "cell_type": "code",
   "execution_count": 12,
   "metadata": {},
   "outputs": [],
   "source": [
    "# saving the test and train data to two csv files\n",
    "df_train.to_csv(\"..\\data\\Train_data_disease.csv\", index=False)\n",
    "df_test_samples.to_csv(\"..\\data\\Test_data_disease.csv\", index=False)"
   ]
  },
  {
   "attachments": {},
   "cell_type": "markdown",
   "metadata": {},
   "source": [
    "### Training final my model on all data except the 100 random chosen data"
   ]
  },
  {
   "cell_type": "code",
   "execution_count": 13,
   "metadata": {},
   "outputs": [
    {
     "name": "stdout",
     "output_type": "stream",
     "text": [
      "Voting classifier accuracy:0.8177570093457944\n"
     ]
    }
   ],
   "source": [
    "# importing a pipeline so i can have a scaler at the beginning of the model\n",
    "from sklearn.pipeline import Pipeline\n",
    "\n",
    "# dropping the cardio column from the data set\n",
    "X,y = df_train.drop(\"cardio\", axis = \"columns\"), df_train[\"cardio\"]\n",
    "\n",
    "# my chosen models and hyper paramters\n",
    "model_1 = RandomForestClassifier(criterion= \"entropy\", max_features=\"log2\", n_estimators=150)\n",
    "model_2 = LogisticRegression(C= 0.026366508987303583, penalty=\"l1\",solver=\"saga\")\n",
    "model_3 = BernoulliNB(alpha=10, binarize=0.0, fit_prior=True)\n",
    "\n",
    "# the voting classifier model\n",
    "voting_clf = VotingClassifier(estimators=[(\"rf\", model_1),(\"lr\", model_2), (\"bn\", model_3)], voting=\"soft\")\n",
    "\n",
    "# The pipeline that I will use that contains a Standard scaler then the voting classifier\n",
    "pipe_clf = Pipeline([(\"scaler\", StandardScaler()), (\"clf\",voting_clf)])\n",
    "# firing the pipeling to the data\n",
    "pipe_clf.fit(X,y)\n",
    "\n",
    "# The prediction from my trained model\n",
    "y_pred = pipe_clf.predict(X)\n",
    "\n",
    "print(f\"Voting classifier accuracy:{pipe_clf.score(X, y)}\")"
   ]
  },
  {
   "cell_type": "code",
   "execution_count": 14,
   "metadata": {},
   "outputs": [
    {
     "name": "stdout",
     "output_type": "stream",
     "text": [
      "              precision    recall  f1-score   support\n",
      "\n",
      "           0       0.80      0.82      0.81      9463\n",
      "           1       0.83      0.81      0.82     10225\n",
      "\n",
      "    accuracy                           0.82     19688\n",
      "   macro avg       0.82      0.82      0.82     19688\n",
      "weighted avg       0.82      0.82      0.82     19688\n",
      "\n"
     ]
    },
    {
     "data": {
      "text/plain": [
       "<sklearn.metrics._plot.confusion_matrix.ConfusionMatrixDisplay at 0x172c836bd60>"
      ]
     },
     "execution_count": 14,
     "metadata": {},
     "output_type": "execute_result"
    },
    {
     "data": {
      "image/png": "[encoded data removed]",
      "text/plain": [
       "<Figure size 640x480 with 2 Axes>"
      ]
     },
     "metadata": {},
     "output_type": "display_data"
    }
   ],
   "source": [
    "print(classification_report(y, y_pred))\n",
    "cm = confusion_matrix(y, y_pred)\n",
    "ConfusionMatrixDisplay(cm).plot()"
   ]
  },
  {
   "attachments": {},
   "cell_type": "markdown",
   "metadata": {},
   "source": [
    "As can see from the classification report and confusion matrix, this model improved when trained with a higher amount of data. The f1 scores are now up to 0.81 for 0(NO) and 0.82 for 1(YES). This is quite an improvement. \n",
    "I will now export the model as a file to be used for predictions"
   ]
  },
  {
   "cell_type": "code",
   "execution_count": 16,
   "metadata": {},
   "outputs": [],
   "source": [
    "# importing pickle to create a file for the model\n",
    "import pickle\n",
    "# selecting the pipeline to be used in the file and naming it.\n",
    "pickle.dump(pipe_clf, open (\"voting_clf_model.pkl\", \"wb\"))"
   ]
  }
 ],
 "metadata": {
  "kernelspec": {
   "display_name": "Machine-learning-NSZCLOcg",
   "language": "python",
   "name": "python3"
  },
  "language_info": {
   "codemirror_mode": {
    "name": "ipython",
    "version": 3
   },
   "file_extension": ".py",
   "mimetype": "text/x-python",
   "name": "python",
   "nbconvert_exporter": "python",
   "pygments_lexer": "ipython3",
   "version": "3.9.13"
  },
  "orig_nbformat": 4
 },
 "nbformat": 4,
 "nbformat_minor": 2
}
