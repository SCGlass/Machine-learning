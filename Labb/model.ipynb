{
 "cells": [
  {
   "cell_type": "code",
   "execution_count": null,
   "metadata": {},
   "outputs": [],
   "source": [
    "import pandas as pd\n",
    "import joblib\n",
    "\n",
    "test_data =  \"..\\data\\Train_data.csv\"\n",
    "df_test = pd.read_csv(test_data)\n",
    "\n",
    "\n",
    "\n",
    "model = joblib.load(\"voting_classifier.pkl\")"
   ]
  }
 ],
 "metadata": {
  "language_info": {
   "name": "python"
  },
  "orig_nbformat": 4
 },
 "nbformat": 4,
 "nbformat_minor": 2
}
